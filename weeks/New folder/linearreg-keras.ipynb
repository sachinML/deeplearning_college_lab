{
 "cells": [
  {
   "cell_type": "markdown",
   "id": "preliminary-award",
   "metadata": {},
   "source": [
    "# Keras Examples\n",
    "Linear  Regression\n",
    "Train  a one layer neural network for linear regression"
   ]
  },
  {
   "cell_type": "code",
   "execution_count": 2,
   "id": "statutory-davis",
   "metadata": {},
   "outputs": [],
   "source": [
    "'''\n",
    "Linear Regression\n",
    "'''\n",
    "# Import the necessry libraries \n",
    "\n",
    "from __future__ import print_function\n",
    "import numpy as np\n",
    "import matplotlib.pyplot as plt\n",
    "import keras\n",
    "from keras.models import Sequential\n",
    "from keras.layers import Dense, Dropout\n",
    "from keras.optimizers import SGD"
   ]
  },
  {
   "cell_type": "code",
   "execution_count": 3,
   "id": "satisfied-crest",
   "metadata": {},
   "outputs": [
    {
     "name": "stdout",
     "output_type": "stream",
     "text": [
      "40 train samples\n",
      "20 test samples\n"
     ]
    },
    {
     "data": {
      "text/plain": [
       "(40,)"
      ]
     },
     "execution_count": 3,
     "metadata": {},
     "output_type": "execute_result"
    }
   ],
   "source": [
    "# Simulate some data as input dataset\n",
    "\n",
    "def SimulData():\n",
    "        # Simulate some data for training \n",
    "        x_train = np.arange(0,10, 0.25 )\n",
    "        x_train = x_train + 1.0/3.0 * np.random.randn(x_train.size);\n",
    "        y_train  = np.cos( x_train  * np.pi /7) +  0.1 * np.random.randn(x_train.size);\n",
    "\n",
    "        x_test = np.arange(0,10, 0.5 )\n",
    "        x_test = x_test + 1.0/3.0 * np.random.randn(x_test.size);\n",
    "        y_test  = np.cos( x_test  * np.pi /7)+  0.1 * np.random.randn(x_test.size)\n",
    "\n",
    "        return (x_train,y_train) , (x_test, y_test)\n",
    "    \n",
    "# the data, shuffled and split between train and test sets\n",
    "(x_train, y_train), (x_test, y_test) = SimulData();\n",
    "\n",
    "print(x_train.shape[0], 'train samples')\n",
    "print(x_test.shape[0], 'test samples')\n",
    "x_train.shape"
   ]
  },
  {
   "cell_type": "code",
   "execution_count": 4,
   "id": "resistant-recipient",
   "metadata": {
    "scrolled": false
   },
   "outputs": [
    {
     "name": "stdout",
     "output_type": "stream",
     "text": [
      "Model: \"sequential\"\n",
      "_________________________________________________________________\n",
      "Layer (type)                 Output Shape              Param #   \n",
      "=================================================================\n",
      "dense (Dense)                (None, 1)                 2         \n",
      "=================================================================\n",
      "Total params: 2\n",
      "Trainable params: 2\n",
      "Non-trainable params: 0\n",
      "_________________________________________________________________\n"
     ]
    }
   ],
   "source": [
    "# Defining the model \n",
    "\n",
    "# Define that it is a FF model\n",
    "model = Sequential()   \n",
    "\n",
    "# add a dense layer of weights\n",
    "model.add(Dense(1, activation='linear', input_shape=(1,)))\n",
    "\n",
    "\n",
    "# print the model \n",
    "model.summary()\n",
    "\n",
    "# Define the optimizer\n",
    "s1 = SGD(lr=0.01)\n",
    "\n",
    "# Set up the model algorithm, loss, optimizer \n",
    "model.compile(loss='mse',\n",
    "              optimizer=s1,\n",
    "              metrics=['mse'])"
   ]
  },
  {
   "cell_type": "code",
   "execution_count": 5,
   "id": "mexican-teaching",
   "metadata": {
    "scrolled": true
   },
   "outputs": [
    {
     "name": "stdout",
     "output_type": "stream",
     "text": [
      "Epoch 1/20\n",
      "4/4 [==============================] - 0s 66ms/step - loss: 6.8465 - mse: 6.8465 - val_loss: 0.2399 - val_mse: 0.2399\n",
      "Epoch 2/20\n",
      "4/4 [==============================] - 0s 9ms/step - loss: 0.2418 - mse: 0.2418 - val_loss: 0.2377 - val_mse: 0.2377\n",
      "Epoch 3/20\n",
      "4/4 [==============================] - 0s 10ms/step - loss: 0.2622 - mse: 0.2622 - val_loss: 0.2487 - val_mse: 0.2487\n",
      "Epoch 4/20\n",
      "4/4 [==============================] - 0s 8ms/step - loss: 0.2393 - mse: 0.2393 - val_loss: 0.2259 - val_mse: 0.2259\n",
      "Epoch 5/20\n",
      "4/4 [==============================] - 0s 9ms/step - loss: 0.2373 - mse: 0.2373 - val_loss: 0.2332 - val_mse: 0.2332\n",
      "Epoch 6/20\n",
      "4/4 [==============================] - 0s 10ms/step - loss: 0.2367 - mse: 0.2367 - val_loss: 0.2211 - val_mse: 0.2211\n",
      "Epoch 7/20\n",
      "4/4 [==============================] - 0s 11ms/step - loss: 0.2449 - mse: 0.2449 - val_loss: 0.2154 - val_mse: 0.2154\n",
      "Epoch 8/20\n",
      "4/4 [==============================] - 0s 14ms/step - loss: 0.2292 - mse: 0.2292 - val_loss: 0.2123 - val_mse: 0.2123\n",
      "Epoch 9/20\n",
      "4/4 [==============================] - 0s 13ms/step - loss: 0.2204 - mse: 0.2204 - val_loss: 0.2110 - val_mse: 0.2110\n",
      "Epoch 10/20\n",
      "4/4 [==============================] - 0s 14ms/step - loss: 0.2253 - mse: 0.2253 - val_loss: 0.2068 - val_mse: 0.2068\n",
      "Epoch 11/20\n",
      "4/4 [==============================] - 0s 11ms/step - loss: 0.2367 - mse: 0.2367 - val_loss: 0.2142 - val_mse: 0.2142\n",
      "Epoch 12/20\n",
      "4/4 [==============================] - 0s 11ms/step - loss: 0.2250 - mse: 0.2250 - val_loss: 0.2299 - val_mse: 0.2299\n",
      "Epoch 13/20\n",
      "4/4 [==============================] - 0s 12ms/step - loss: 0.2135 - mse: 0.2135 - val_loss: 0.1984 - val_mse: 0.1984\n",
      "Epoch 14/20\n",
      "4/4 [==============================] - 0s 7ms/step - loss: 0.2196 - mse: 0.2196 - val_loss: 0.1959 - val_mse: 0.1959\n",
      "Epoch 15/20\n",
      "4/4 [==============================] - 0s 10ms/step - loss: 0.2142 - mse: 0.2142 - val_loss: 0.1940 - val_mse: 0.1940\n",
      "Epoch 16/20\n",
      "4/4 [==============================] - 0s 9ms/step - loss: 0.2055 - mse: 0.2055 - val_loss: 0.1909 - val_mse: 0.1909\n",
      "Epoch 17/20\n",
      "4/4 [==============================] - 0s 10ms/step - loss: 0.2010 - mse: 0.2010 - val_loss: 0.1889 - val_mse: 0.1889\n",
      "Epoch 18/20\n",
      "4/4 [==============================] - 0s 12ms/step - loss: 0.2016 - mse: 0.2016 - val_loss: 0.1946 - val_mse: 0.1946\n",
      "Epoch 19/20\n",
      "4/4 [==============================] - 0s 11ms/step - loss: 0.2049 - mse: 0.2049 - val_loss: 0.1882 - val_mse: 0.1882\n",
      "Epoch 20/20\n",
      "4/4 [==============================] - 0s 11ms/step - loss: 0.1986 - mse: 0.1986 - val_loss: 0.1833 - val_mse: 0.1833\n",
      "Test loss: 0.1833423674106598\n"
     ]
    },
    {
     "data": {
      "image/png": "[encoded data removed]",
      "text/plain": [
       "<Figure size 432x288 with 1 Axes>"
      ]
     },
     "metadata": {
      "needs_background": "light"
     },
     "output_type": "display_data"
    }
   ],
   "source": [
    "# Train the model\n",
    "batch_size = 10\n",
    "epochs = 20\n",
    "\n",
    "history = model.fit(x_train, y_train,\n",
    "                    batch_size=batch_size,\n",
    "                    epochs=epochs,\n",
    "                    verbose=1,\n",
    "                    validation_data=(x_test, y_test))\n",
    "\n",
    "# perform prediction using the test data\n",
    "y_pred = model.predict(x_test);\n",
    "\n",
    "# Find the loss\n",
    "score = model.evaluate(x_test, y_test, verbose=0)\n",
    "print('Test loss:', score[0])\n",
    "\n",
    "# Plot the results\n",
    "tst = plt.plot(x_test,y_test,'r.',label='test');\n",
    "pred = plt.plot(x_test,y_pred,'m',label='pred');\n",
    "tr = plt.plot(x_train,y_train,'b.',label='train');\n",
    "\n",
    "plt.legend()\n",
    "plt.show()\n"
   ]
  },
  {
   "cell_type": "code",
   "execution_count": null,
   "id": "documentary-stuart",
   "metadata": {},
   "outputs": [],
   "source": [
    "'''\n",
    "TODO - 1. Add one more layer of 50 hidden neurons \n",
    "          and compare the differences in the output\n",
    "       2. Compare the effect of L1 and L2 regularization \n",
    "          on the neural network in part 1\n",
    "       3. Understand the effect of dropout on the \n",
    "          neural network defined in part 1\n",
    "''' "
   ]
  },
  {
   "cell_type": "markdown",
   "id": "expected-boutique",
   "metadata": {},
   "source": [
    "# 1st ans"
   ]
  },
  {
   "cell_type": "code",
   "execution_count": 8,
   "id": "assisted-eleven",
   "metadata": {},
   "outputs": [
    {
     "name": "stdout",
     "output_type": "stream",
     "text": [
      "Model: \"sequential_2\"\n",
      "_________________________________________________________________\n",
      "Layer (type)                 Output Shape              Param #   \n",
      "=================================================================\n",
      "dense_3 (Dense)              (None, 50)                100       \n",
      "_________________________________________________________________\n",
      "dense_4 (Dense)              (None, 1)                 51        \n",
      "=================================================================\n",
      "Total params: 151\n",
      "Trainable params: 151\n",
      "Non-trainable params: 0\n",
      "_________________________________________________________________\n"
     ]
    }
   ],
   "source": [
    "# Defining the model \n",
    "\n",
    "# Define that it is a FF model\n",
    "model_1 = Sequential()   \n",
    "\n",
    "# add a dense layer of weights\n",
    "model_1.add(Dense(50, activation='linear', input_shape=(1,)))\n",
    "#model_1.add(Dense(1))\n",
    "model_1.add(Dense(1, activation='linear'))\n",
    "\n",
    "\n",
    "# print the model \n",
    "model_1.summary()\n",
    "\n",
    "# Define the optimizer\n",
    "s2 = SGD(lr=0.01)\n",
    "\n",
    "# Set up the model algorithm, loss, optimizer \n",
    "model_1.compile(loss='mse',\n",
    "              optimizer=s2,\n",
    "              metrics=['mse'])"
   ]
  },
  {
   "cell_type": "code",
   "execution_count": 9,
   "id": "capable-challenge",
   "metadata": {
    "scrolled": true
   },
   "outputs": [
    {
     "name": "stdout",
     "output_type": "stream",
     "text": [
      "Epoch 1/40\n",
      "4/4 [==============================] - 1s 199ms/step - loss: 21.7995 - mse: 21.7995 - val_loss: 6.7687 - val_mse: 6.7687\n",
      "Epoch 2/40\n",
      "4/4 [==============================] - 0s 14ms/step - loss: 2.7770 - mse: 2.7770 - val_loss: 0.3828 - val_mse: 0.3828\n",
      "Epoch 3/40\n",
      "4/4 [==============================] - 0s 13ms/step - loss: 0.3477 - mse: 0.3477 - val_loss: 0.3137 - val_mse: 0.3137\n",
      "Epoch 4/40\n",
      "4/4 [==============================] - 0s 12ms/step - loss: 0.3099 - mse: 0.3099 - val_loss: 0.3046 - val_mse: 0.3046\n",
      "Epoch 5/40\n",
      "4/4 [==============================] - 0s 20ms/step - loss: 0.3022 - mse: 0.3022 - val_loss: 0.2962 - val_mse: 0.2962\n",
      "Epoch 6/40\n",
      "4/4 [==============================] - 0s 49ms/step - loss: 0.3024 - mse: 0.3024 - val_loss: 0.2888 - val_mse: 0.2888\n",
      "Epoch 7/40\n",
      "4/4 [==============================] - 0s 21ms/step - loss: 0.2870 - mse: 0.2870 - val_loss: 0.2804 - val_mse: 0.2804\n",
      "Epoch 8/40\n",
      "4/4 [==============================] - 0s 16ms/step - loss: 0.2908 - mse: 0.2908 - val_loss: 0.2735 - val_mse: 0.2735\n",
      "Epoch 9/40\n",
      "4/4 [==============================] - 0s 10ms/step - loss: 0.2722 - mse: 0.2722 - val_loss: 0.2663 - val_mse: 0.2663\n",
      "Epoch 10/40\n",
      "4/4 [==============================] - 0s 16ms/step - loss: 0.2715 - mse: 0.2715 - val_loss: 0.2598 - val_mse: 0.2598\n",
      "Epoch 11/40\n",
      "4/4 [==============================] - 0s 15ms/step - loss: 0.2630 - mse: 0.2629 - val_loss: 0.2534 - val_mse: 0.2534\n",
      "Epoch 12/40\n",
      "4/4 [==============================] - 0s 12ms/step - loss: 0.2571 - mse: 0.2571 - val_loss: 0.2478 - val_mse: 0.2478\n",
      "Epoch 13/40\n",
      "4/4 [==============================] - 0s 8ms/step - loss: 0.2521 - mse: 0.2521 - val_loss: 0.2420 - val_mse: 0.2420\n",
      "Epoch 14/40\n",
      "4/4 [==============================] - 0s 9ms/step - loss: 0.2473 - mse: 0.2473 - val_loss: 0.2376 - val_mse: 0.2376\n",
      "Epoch 15/40\n",
      "4/4 [==============================] - 0s 8ms/step - loss: 0.2463 - mse: 0.2463 - val_loss: 0.2316 - val_mse: 0.2316\n",
      "Epoch 16/40\n",
      "4/4 [==============================] - 0s 8ms/step - loss: 0.2360 - mse: 0.2360 - val_loss: 0.2261 - val_mse: 0.2261\n",
      "Epoch 17/40\n",
      "4/4 [==============================] - 0s 9ms/step - loss: 0.2505 - mse: 0.2505 - val_loss: 0.2218 - val_mse: 0.2218\n",
      "Epoch 18/40\n",
      "4/4 [==============================] - 0s 14ms/step - loss: 0.2281 - mse: 0.2281 - val_loss: 0.2171 - val_mse: 0.2171\n",
      "Epoch 19/40\n",
      "4/4 [==============================] - 0s 13ms/step - loss: 0.2277 - mse: 0.2277 - val_loss: 0.2141 - val_mse: 0.2141\n",
      "Epoch 20/40\n",
      "4/4 [==============================] - 0s 10ms/step - loss: 0.2241 - mse: 0.2241 - val_loss: 0.2098 - val_mse: 0.2098\n",
      "Epoch 21/40\n",
      "4/4 [==============================] - 0s 9ms/step - loss: 0.2206 - mse: 0.2206 - val_loss: 0.2049 - val_mse: 0.2049\n",
      "Epoch 22/40\n",
      "4/4 [==============================] - 0s 8ms/step - loss: 0.2145 - mse: 0.2145 - val_loss: 0.2023 - val_mse: 0.2023\n",
      "Epoch 23/40\n",
      "4/4 [==============================] - 0s 8ms/step - loss: 0.2102 - mse: 0.2102 - val_loss: 0.1980 - val_mse: 0.1980\n",
      "Epoch 24/40\n",
      "4/4 [==============================] - 0s 7ms/step - loss: 0.2065 - mse: 0.2065 - val_loss: 0.1945 - val_mse: 0.1945\n",
      "Epoch 25/40\n",
      "4/4 [==============================] - 0s 7ms/step - loss: 0.2241 - mse: 0.2241 - val_loss: 0.1919 - val_mse: 0.1919\n",
      "Epoch 26/40\n",
      "4/4 [==============================] - 0s 7ms/step - loss: 0.2028 - mse: 0.2028 - val_loss: 0.1883 - val_mse: 0.1883\n",
      "Epoch 27/40\n",
      "4/4 [==============================] - 0s 7ms/step - loss: 0.2056 - mse: 0.2056 - val_loss: 0.1855 - val_mse: 0.1855\n",
      "Epoch 28/40\n",
      "4/4 [==============================] - 0s 9ms/step - loss: 0.1978 - mse: 0.1978 - val_loss: 0.1828 - val_mse: 0.1828\n",
      "Epoch 29/40\n",
      "4/4 [==============================] - 0s 8ms/step - loss: 0.1981 - mse: 0.1981 - val_loss: 0.1808 - val_mse: 0.1808\n",
      "Epoch 30/40\n",
      "4/4 [==============================] - 0s 9ms/step - loss: 0.2136 - mse: 0.2136 - val_loss: 0.1784 - val_mse: 0.1784\n",
      "Epoch 31/40\n",
      "4/4 [==============================] - 0s 7ms/step - loss: 0.1960 - mse: 0.1960 - val_loss: 0.1800 - val_mse: 0.1800\n",
      "Epoch 32/40\n",
      "4/4 [==============================] - 0s 6ms/step - loss: 0.1878 - mse: 0.1878 - val_loss: 0.1740 - val_mse: 0.1740\n",
      "Epoch 33/40\n",
      "4/4 [==============================] - 0s 7ms/step - loss: 0.1845 - mse: 0.1845 - val_loss: 0.1711 - val_mse: 0.1711\n",
      "Epoch 34/40\n",
      "4/4 [==============================] - 0s 6ms/step - loss: 0.1910 - mse: 0.1910 - val_loss: 0.1690 - val_mse: 0.1690\n",
      "Epoch 35/40\n",
      "4/4 [==============================] - 0s 7ms/step - loss: 0.1840 - mse: 0.1840 - val_loss: 0.1671 - val_mse: 0.1671\n",
      "Epoch 36/40\n",
      "4/4 [==============================] - 0s 8ms/step - loss: 0.1806 - mse: 0.1806 - val_loss: 0.1657 - val_mse: 0.1657\n",
      "Epoch 37/40\n",
      "4/4 [==============================] - 0s 8ms/step - loss: 0.1848 - mse: 0.1848 - val_loss: 0.1638 - val_mse: 0.1638\n",
      "Epoch 38/40\n",
      "4/4 [==============================] - 0s 9ms/step - loss: 0.1841 - mse: 0.1841 - val_loss: 0.1646 - val_mse: 0.1646\n",
      "Epoch 39/40\n",
      "4/4 [==============================] - 0s 8ms/step - loss: 0.1855 - mse: 0.1855 - val_loss: 0.1611 - val_mse: 0.1611\n",
      "Epoch 40/40\n",
      "4/4 [==============================] - 0s 7ms/step - loss: 0.1783 - mse: 0.1783 - val_loss: 0.1589 - val_mse: 0.1589\n",
      "Test loss: 0.15889203548431396\n"
     ]
    },
    {
     "data": {
      "image/png": "[encoded data removed]",
      "text/plain": [
       "<Figure size 432x288 with 1 Axes>"
      ]
     },
     "metadata": {
      "needs_background": "light"
     },
     "output_type": "display_data"
    }
   ],
   "source": [
    "# Train the model\n",
    "batch_size = 10\n",
    "epochs1 = 40\n",
    "\n",
    "history1 = model_1.fit(x_train, y_train,\n",
    "                    batch_size=batch_size,\n",
    "                    epochs=epochs1,\n",
    "                    verbose=1,\n",
    "                    validation_data=(x_test, y_test))\n",
    "\n",
    "# perform prediction using the test data\n",
    "y_pred1 = model_1.predict(x_test);\n",
    "\n",
    "# Find the loss\n",
    "score1 = model_1.evaluate(x_test, y_test, verbose=0)\n",
    "print('Test loss:', score1[0])\n",
    "\n",
    "# Plot the results\n",
    "tst1 = plt.plot(x_test,y_test,'r.',label='test');\n",
    "pred1 = plt.plot(x_test,y_pred,'m',label='pred');\n",
    "tr1 = plt.plot(x_train,y_train,'b.',label='train');\n",
    "\n",
    "plt.legend()\n",
    "plt.show()\n"
   ]
  },
  {
   "cell_type": "markdown",
   "id": "sharing-season",
   "metadata": {},
   "source": [
    "# 2nd ans"
   ]
  },
  {
   "cell_type": "code",
   "execution_count": 16,
   "id": "stretch-zealand",
   "metadata": {},
   "outputs": [
    {
     "name": "stdout",
     "output_type": "stream",
     "text": [
      "Model: \"sequential_6\"\n",
      "_________________________________________________________________\n",
      "Layer (type)                 Output Shape              Param #   \n",
      "=================================================================\n",
      "dense_11 (Dense)             (None, 50)                100       \n",
      "_________________________________________________________________\n",
      "dense_12 (Dense)             (None, 1)                 51        \n",
      "=================================================================\n",
      "Total params: 151\n",
      "Trainable params: 151\n",
      "Non-trainable params: 0\n",
      "_________________________________________________________________\n"
     ]
    }
   ],
   "source": [
    "from keras import regularizers\n",
    "# Defining the model \n",
    "\n",
    "# Define that it is a FF model\n",
    "model_2 = Sequential()   \n",
    "\n",
    "# add a dense layer of weights\n",
    "model_2.add(Dense(50, activation='linear', input_shape=(1,),kernel_regularizer=regularizers.l2(0.0005)))\n",
    "model_2.add(Dense(1))\n",
    "\n",
    "\n",
    "# print the model \n",
    "model_2.summary()\n",
    "\n",
    "# Define the optimizer\n",
    "s3 = SGD(lr=0.01)\n",
    "\n",
    "# Set up the model algorithm, loss, optimizer \n",
    "model_2.compile(loss='mse',\n",
    "              optimizer=s3,\n",
    "              metrics=['mse'])"
   ]
  },
  {
   "cell_type": "code",
   "execution_count": 17,
   "id": "committed-technology",
   "metadata": {
    "scrolled": true
   },
   "outputs": [
    {
     "name": "stdout",
     "output_type": "stream",
     "text": [
      "Epoch 1/40\n",
      "4/4 [==============================] - 0s 72ms/step - loss: 5.6210 - mse: 5.6201 - val_loss: 15.4622 - val_mse: 15.4614\n",
      "Epoch 2/40\n",
      "4/4 [==============================] - 0s 10ms/step - loss: 3.8382 - mse: 3.8375 - val_loss: 0.3535 - val_mse: 0.3529\n",
      "Epoch 3/40\n",
      "4/4 [==============================] - 0s 10ms/step - loss: 0.2880 - mse: 0.2874 - val_loss: 0.2647 - val_mse: 0.2641\n",
      "Epoch 4/40\n",
      "4/4 [==============================] - 0s 8ms/step - loss: 0.3203 - mse: 0.3197 - val_loss: 0.4818 - val_mse: 0.4812\n",
      "Epoch 5/40\n",
      "4/4 [==============================] - 0s 7ms/step - loss: 0.2470 - mse: 0.2465 - val_loss: 0.2735 - val_mse: 0.2729\n",
      "Epoch 6/40\n",
      "4/4 [==============================] - 0s 10ms/step - loss: 0.2395 - mse: 0.2389 - val_loss: 0.2828 - val_mse: 0.2822\n",
      "Epoch 7/40\n",
      "4/4 [==============================] - 0s 7ms/step - loss: 0.2554 - mse: 0.2548 - val_loss: 0.2287 - val_mse: 0.2281\n",
      "Epoch 8/40\n",
      "4/4 [==============================] - 0s 10ms/step - loss: 0.2426 - mse: 0.2420 - val_loss: 0.2427 - val_mse: 0.2421\n",
      "Epoch 9/40\n",
      "4/4 [==============================] - 0s 12ms/step - loss: 0.2480 - mse: 0.2474 - val_loss: 0.2032 - val_mse: 0.2026\n",
      "Epoch 10/40\n",
      "4/4 [==============================] - 0s 10ms/step - loss: 0.2120 - mse: 0.2114 - val_loss: 0.1940 - val_mse: 0.1934\n",
      "Epoch 11/40\n",
      "4/4 [==============================] - 0s 14ms/step - loss: 0.3346 - mse: 0.3340 - val_loss: 0.1924 - val_mse: 0.1918\n",
      "Epoch 12/40\n",
      "4/4 [==============================] - 0s 12ms/step - loss: 0.1989 - mse: 0.1983 - val_loss: 0.1908 - val_mse: 0.1902\n",
      "Epoch 13/40\n",
      "4/4 [==============================] - ETA: 0s - loss: 0.2230 - mse: 0.222 - 0s 10ms/step - loss: 0.2001 - mse: 0.1995 - val_loss: 0.1831 - val_mse: 0.1826\n",
      "Epoch 14/40\n",
      "4/4 [==============================] - 0s 10ms/step - loss: 0.1881 - mse: 0.1875 - val_loss: 0.1963 - val_mse: 0.1957\n",
      "Epoch 15/40\n",
      "4/4 [==============================] - 0s 10ms/step - loss: 0.1959 - mse: 0.1953 - val_loss: 0.1743 - val_mse: 0.1738\n",
      "Epoch 16/40\n",
      "4/4 [==============================] - 0s 9ms/step - loss: 0.1877 - mse: 0.1872 - val_loss: 0.1684 - val_mse: 0.1678\n",
      "Epoch 17/40\n",
      "4/4 [==============================] - 0s 11ms/step - loss: 0.2047 - mse: 0.2041 - val_loss: 0.1710 - val_mse: 0.1704\n",
      "Epoch 18/40\n",
      "4/4 [==============================] - 0s 11ms/step - loss: 0.2082 - mse: 0.2076 - val_loss: 0.1633 - val_mse: 0.1627\n",
      "Epoch 19/40\n",
      "4/4 [==============================] - 0s 10ms/step - loss: 0.1914 - mse: 0.1908 - val_loss: 0.1666 - val_mse: 0.1660\n",
      "Epoch 20/40\n",
      "4/4 [==============================] - 0s 10ms/step - loss: 0.1699 - mse: 0.1694 - val_loss: 0.1661 - val_mse: 0.1655\n",
      "Epoch 21/40\n",
      "4/4 [==============================] - 0s 10ms/step - loss: 0.2505 - mse: 0.2499 - val_loss: 0.4918 - val_mse: 0.4912\n",
      "Epoch 22/40\n",
      "4/4 [==============================] - 0s 10ms/step - loss: 0.2441 - mse: 0.2436 - val_loss: 0.2471 - val_mse: 0.2465\n",
      "Epoch 23/40\n",
      "4/4 [==============================] - 0s 10ms/step - loss: 0.1704 - mse: 0.1698 - val_loss: 0.1763 - val_mse: 0.1758\n",
      "Epoch 24/40\n",
      "4/4 [==============================] - 0s 13ms/step - loss: 0.1846 - mse: 0.1841 - val_loss: 0.1652 - val_mse: 0.1646\n",
      "Epoch 25/40\n",
      "4/4 [==============================] - 0s 10ms/step - loss: 0.1971 - mse: 0.1966 - val_loss: 0.1631 - val_mse: 0.1625\n",
      "Epoch 26/40\n",
      "4/4 [==============================] - 0s 10ms/step - loss: 0.1821 - mse: 0.1815 - val_loss: 0.1509 - val_mse: 0.1503\n",
      "Epoch 27/40\n",
      "4/4 [==============================] - 0s 10ms/step - loss: 0.1856 - mse: 0.1850 - val_loss: 0.1487 - val_mse: 0.1481\n",
      "Epoch 28/40\n",
      "4/4 [==============================] - 0s 7ms/step - loss: 0.1811 - mse: 0.1805 - val_loss: 0.2551 - val_mse: 0.2546\n",
      "Epoch 29/40\n",
      "4/4 [==============================] - 0s 10ms/step - loss: 0.4478 - mse: 0.4472 - val_loss: 0.2362 - val_mse: 0.2356\n",
      "Epoch 30/40\n",
      "4/4 [==============================] - 0s 10ms/step - loss: 0.2324 - mse: 0.2318 - val_loss: 0.1474 - val_mse: 0.1469\n",
      "Epoch 31/40\n",
      "4/4 [==============================] - 0s 10ms/step - loss: 0.2136 - mse: 0.2130 - val_loss: 0.1474 - val_mse: 0.1469\n",
      "Epoch 32/40\n",
      "4/4 [==============================] - 0s 10ms/step - loss: 0.2150 - mse: 0.2144 - val_loss: 0.3385 - val_mse: 0.3380\n",
      "Epoch 33/40\n",
      "4/4 [==============================] - 0s 10ms/step - loss: 0.2279 - mse: 0.2274 - val_loss: 0.1426 - val_mse: 0.1421\n",
      "Epoch 34/40\n",
      "4/4 [==============================] - 0s 13ms/step - loss: 0.1707 - mse: 0.1702 - val_loss: 0.1488 - val_mse: 0.1482\n",
      "Epoch 35/40\n",
      "4/4 [==============================] - 0s 12ms/step - loss: 0.2267 - mse: 0.2262 - val_loss: 0.1920 - val_mse: 0.1914\n",
      "Epoch 36/40\n",
      "4/4 [==============================] - 0s 11ms/step - loss: 0.1943 - mse: 0.1938 - val_loss: 0.1470 - val_mse: 0.1465\n",
      "Epoch 37/40\n",
      "4/4 [==============================] - 0s 10ms/step - loss: 0.1586 - mse: 0.1581 - val_loss: 0.1597 - val_mse: 0.1591\n",
      "Epoch 38/40\n",
      "4/4 [==============================] - 0s 11ms/step - loss: 0.2164 - mse: 0.2158 - val_loss: 0.1545 - val_mse: 0.1540\n",
      "Epoch 39/40\n",
      "4/4 [==============================] - 0s 13ms/step - loss: 0.1916 - mse: 0.1911 - val_loss: 0.1379 - val_mse: 0.1374\n",
      "Epoch 40/40\n",
      "4/4 [==============================] - 0s 10ms/step - loss: 0.1915 - mse: 0.1910 - val_loss: 0.1570 - val_mse: 0.1565\n",
      "WARNING:tensorflow:7 out of the last 7 calls to <function Model.make_predict_function.<locals>.predict_function at 0x00000201D1DCA0D0> triggered tf.function retracing. Tracing is expensive and the excessive number of tracings could be due to (1) creating @tf.function repeatedly in a loop, (2) passing tensors with different shapes, (3) passing Python objects instead of tensors. For (1), please define your @tf.function outside of the loop. For (2), @tf.function has experimental_relax_shapes=True option that relaxes argument shapes that can avoid unnecessary retracing. For (3), please refer to https://www.tensorflow.org/tutorials/customization/performance#python_or_tensor_args and https://www.tensorflow.org/api_docs/python/tf/function for  more details.\n",
      "Test loss: 0.15702854096889496\n"
     ]
    }
   ],
   "source": [
    "# Train the model\n",
    "batch_size = 10\n",
    "epochs1 = 40\n",
    "\n",
    "history2 = model_2.fit(x_train, y_train,\n",
    "                    batch_size=batch_size,\n",
    "                    epochs=epochs1,\n",
    "                    verbose=1,\n",
    "                    validation_data=(x_test, y_test))\n",
    "\n",
    "# perform prediction using the test data\n",
    "y_pred2 = model_2.predict(x_test);\n",
    "\n",
    "# Find the loss\n",
    "score2 = model_2.evaluate(x_test, y_test, verbose=0)\n",
    "print('Test loss:', score2[0])\n",
    "\n"
   ]
  },
  {
   "cell_type": "markdown",
   "id": "liquid-diagram",
   "metadata": {},
   "source": [
    "# 3rd ans"
   ]
  },
  {
   "cell_type": "code",
   "execution_count": 11,
   "id": "developed-trademark",
   "metadata": {},
   "outputs": [
    {
     "name": "stdout",
     "output_type": "stream",
     "text": [
      "Model: \"sequential_4\"\n",
      "_________________________________________________________________\n",
      "Layer (type)                 Output Shape              Param #   \n",
      "=================================================================\n",
      "dense_7 (Dense)              (None, 50)                100       \n",
      "_________________________________________________________________\n",
      "dropout_1 (Dropout)          (None, 50)                0         \n",
      "_________________________________________________________________\n",
      "dense_8 (Dense)              (None, 1)                 51        \n",
      "=================================================================\n",
      "Total params: 151\n",
      "Trainable params: 151\n",
      "Non-trainable params: 0\n",
      "_________________________________________________________________\n"
     ]
    }
   ],
   "source": [
    "\n",
    "# Defining the model \n",
    "\n",
    "# Define that it is a FF model\n",
    "model_3 = Sequential()   \n",
    "\n",
    "# add a dense layer of weights\n",
    "model_3.add(Dense(50, activation='linear', input_shape=(1,)))\n",
    "model_3.add(Dropout(0.25))\n",
    "model_3.add(Dense(1))\n",
    "\n",
    "\n",
    "# print the model \n",
    "model_3.summary()\n",
    "\n",
    "# Define the optimizer\n",
    "s4 = SGD(lr=0.01)\n",
    "\n",
    "# Set up the model algorithm, loss, optimizer \n",
    "model_3.compile(loss='mse',\n",
    "              optimizer=s4,\n",
    "              metrics=['mse'])"
   ]
  },
  {
   "cell_type": "code",
   "execution_count": 12,
   "id": "chubby-causing",
   "metadata": {
    "scrolled": true
   },
   "outputs": [
    {
     "name": "stdout",
     "output_type": "stream",
     "text": [
      "Epoch 1/40\n",
      "4/4 [==============================] - 0s 21ms/step - loss: 3.5997 - mse: 3.5997 - val_loss: 2.6210 - val_mse: 2.6210\n",
      "Epoch 2/40\n",
      "4/4 [==============================] - 0s 7ms/step - loss: 2.6399 - mse: 2.6399 - val_loss: 0.5303 - val_mse: 0.5303\n",
      "Epoch 3/40\n",
      "4/4 [==============================] - 0s 4ms/step - loss: 1.5249 - mse: 1.5249 - val_loss: 0.9225 - val_mse: 0.9225\n",
      "Epoch 4/40\n",
      "4/4 [==============================] - 0s 4ms/step - loss: 1.1170 - mse: 1.1170 - val_loss: 0.4668 - val_mse: 0.4668\n",
      "Epoch 5/40\n",
      "4/4 [==============================] - 0s 4ms/step - loss: 0.7710 - mse: 0.7710 - val_loss: 0.6905 - val_mse: 0.6905\n",
      "Epoch 6/40\n",
      "4/4 [==============================] - 0s 5ms/step - loss: 0.6107 - mse: 0.6107 - val_loss: 0.3085 - val_mse: 0.3085\n",
      "Epoch 7/40\n",
      "4/4 [==============================] - 0s 4ms/step - loss: 0.4207 - mse: 0.4207 - val_loss: 0.3014 - val_mse: 0.3014\n",
      "Epoch 8/40\n",
      "4/4 [==============================] - 0s 4ms/step - loss: 0.5524 - mse: 0.5524 - val_loss: 0.2968 - val_mse: 0.2968\n",
      "Epoch 9/40\n",
      "4/4 [==============================] - 0s 4ms/step - loss: 0.8540 - mse: 0.8540 - val_loss: 0.2396 - val_mse: 0.2396\n",
      "Epoch 10/40\n",
      "4/4 [==============================] - 0s 5ms/step - loss: 0.5920 - mse: 0.5920 - val_loss: 0.2917 - val_mse: 0.2917\n",
      "Epoch 11/40\n",
      "4/4 [==============================] - 0s 5ms/step - loss: 0.3851 - mse: 0.3851 - val_loss: 0.4143 - val_mse: 0.4143\n",
      "Epoch 12/40\n",
      "4/4 [==============================] - 0s 5ms/step - loss: 0.3934 - mse: 0.3934 - val_loss: 0.2255 - val_mse: 0.2255\n",
      "Epoch 13/40\n",
      "4/4 [==============================] - 0s 5ms/step - loss: 0.2546 - mse: 0.2546 - val_loss: 0.2078 - val_mse: 0.2078\n",
      "Epoch 14/40\n",
      "4/4 [==============================] - 0s 5ms/step - loss: 0.2755 - mse: 0.2755 - val_loss: 0.2067 - val_mse: 0.2067\n",
      "Epoch 15/40\n",
      "4/4 [==============================] - 0s 5ms/step - loss: 0.2846 - mse: 0.2846 - val_loss: 0.2001 - val_mse: 0.2001\n",
      "Epoch 16/40\n",
      "4/4 [==============================] - 0s 4ms/step - loss: 0.2342 - mse: 0.2342 - val_loss: 0.2035 - val_mse: 0.2035\n",
      "Epoch 17/40\n",
      "4/4 [==============================] - 0s 4ms/step - loss: 0.2331 - mse: 0.2331 - val_loss: 0.1947 - val_mse: 0.1947\n",
      "Epoch 18/40\n",
      "4/4 [==============================] - 0s 5ms/step - loss: 0.2857 - mse: 0.2857 - val_loss: 0.1889 - val_mse: 0.1889\n",
      "Epoch 19/40\n",
      "4/4 [==============================] - 0s 5ms/step - loss: 0.3353 - mse: 0.3353 - val_loss: 0.1876 - val_mse: 0.1876\n",
      "Epoch 20/40\n",
      "4/4 [==============================] - 0s 5ms/step - loss: 0.3519 - mse: 0.3519 - val_loss: 0.1850 - val_mse: 0.1850\n",
      "Epoch 21/40\n",
      "4/4 [==============================] - 0s 5ms/step - loss: 0.2448 - mse: 0.2448 - val_loss: 0.1684 - val_mse: 0.1684\n",
      "Epoch 22/40\n",
      "4/4 [==============================] - 0s 5ms/step - loss: 0.2636 - mse: 0.2636 - val_loss: 0.1650 - val_mse: 0.1650\n",
      "Epoch 23/40\n",
      "4/4 [==============================] - 0s 4ms/step - loss: 0.2109 - mse: 0.2109 - val_loss: 0.1908 - val_mse: 0.1908\n",
      "Epoch 24/40\n",
      "4/4 [==============================] - 0s 4ms/step - loss: 0.2431 - mse: 0.2431 - val_loss: 0.1601 - val_mse: 0.1601\n",
      "Epoch 25/40\n",
      "4/4 [==============================] - 0s 5ms/step - loss: 0.2078 - mse: 0.2078 - val_loss: 0.1788 - val_mse: 0.1788\n",
      "Epoch 26/40\n",
      "4/4 [==============================] - 0s 4ms/step - loss: 0.2319 - mse: 0.2319 - val_loss: 0.1649 - val_mse: 0.1649\n",
      "Epoch 27/40\n",
      "4/4 [==============================] - 0s 4ms/step - loss: 0.2963 - mse: 0.2963 - val_loss: 0.1565 - val_mse: 0.1565\n",
      "Epoch 28/40\n",
      "4/4 [==============================] - 0s 5ms/step - loss: 0.2197 - mse: 0.2197 - val_loss: 0.1691 - val_mse: 0.1691\n",
      "Epoch 29/40\n",
      "4/4 [==============================] - 0s 4ms/step - loss: 0.2575 - mse: 0.2575 - val_loss: 0.1694 - val_mse: 0.1694\n",
      "Epoch 30/40\n",
      "4/4 [==============================] - 0s 4ms/step - loss: 0.2191 - mse: 0.2191 - val_loss: 0.1435 - val_mse: 0.1435\n",
      "Epoch 31/40\n",
      "4/4 [==============================] - 0s 4ms/step - loss: 0.2980 - mse: 0.2980 - val_loss: 0.1495 - val_mse: 0.1495\n",
      "Epoch 32/40\n",
      "4/4 [==============================] - 0s 5ms/step - loss: 0.2356 - mse: 0.2356 - val_loss: 0.1397 - val_mse: 0.1397\n",
      "Epoch 33/40\n",
      "4/4 [==============================] - 0s 4ms/step - loss: 0.2136 - mse: 0.2136 - val_loss: 0.1635 - val_mse: 0.1635\n",
      "Epoch 34/40\n",
      "4/4 [==============================] - 0s 4ms/step - loss: 0.2773 - mse: 0.2773 - val_loss: 0.1441 - val_mse: 0.1441\n",
      "Epoch 35/40\n",
      "4/4 [==============================] - 0s 5ms/step - loss: 0.2226 - mse: 0.2226 - val_loss: 0.1548 - val_mse: 0.1548\n",
      "Epoch 36/40\n",
      "4/4 [==============================] - 0s 4ms/step - loss: 0.1797 - mse: 0.1797 - val_loss: 0.1316 - val_mse: 0.1316\n",
      "Epoch 37/40\n",
      "4/4 [==============================] - 0s 4ms/step - loss: 0.1909 - mse: 0.1909 - val_loss: 0.1702 - val_mse: 0.1702\n",
      "Epoch 38/40\n",
      "4/4 [==============================] - 0s 4ms/step - loss: 0.1929 - mse: 0.1929 - val_loss: 0.1541 - val_mse: 0.1541\n",
      "Epoch 39/40\n",
      "4/4 [==============================] - 0s 5ms/step - loss: 0.1817 - mse: 0.1817 - val_loss: 0.1313 - val_mse: 0.1313\n",
      "Epoch 40/40\n",
      "4/4 [==============================] - 0s 4ms/step - loss: 0.1910 - mse: 0.1910 - val_loss: 0.1268 - val_mse: 0.1268\n",
      "WARNING:tensorflow:5 out of the last 5 calls to <function Model.make_predict_function.<locals>.predict_function at 0x7f24b431ba60> triggered tf.function retracing. Tracing is expensive and the excessive number of tracings could be due to (1) creating @tf.function repeatedly in a loop, (2) passing tensors with different shapes, (3) passing Python objects instead of tensors. For (1), please define your @tf.function outside of the loop. For (2), @tf.function has experimental_relax_shapes=True option that relaxes argument shapes that can avoid unnecessary retracing. For (3), please refer to https://www.tensorflow.org/tutorials/customization/performance#python_or_tensor_args and https://www.tensorflow.org/api_docs/python/tf/function for  more details.\n",
      "Test loss: 0.1267561912536621\n"
     ]
    },
    {
     "data": {
      "image/png": "[encoded data removed]",
      "text/plain": [
       "<Figure size 432x288 with 1 Axes>"
      ]
     },
     "metadata": {
      "needs_background": "light"
     },
     "output_type": "display_data"
    }
   ],
   "source": [
    "# Train the model\n",
    "batch_size = 10\n",
    "epochs1 = 40\n",
    "\n",
    "history3 = model_3.fit(x_train, y_train,\n",
    "                    batch_size=batch_size,\n",
    "                    epochs=epochs1,\n",
    "                    verbose=1,\n",
    "                    validation_data=(x_test, y_test))\n",
    "\n",
    "# perform prediction using the test data\n",
    "y_pred3 = model_3.predict(x_test);\n",
    "\n",
    "# Find the loss\n",
    "score3 = model_3.evaluate(x_test, y_test, verbose=0)\n",
    "print('Test loss:', score3[0])\n",
    "\n",
    "# Plot the results\n",
    "tst3 = plt.plot(x_test,y_test,'r.',label='test');\n",
    "pred3 = plt.plot(x_test,y_pred,'m',label='pred');\n",
    "tr3 = plt.plot(x_train,y_train,'b.',label='train');\n",
    "\n",
    "plt.legend()\n",
    "plt.show()\n"
   ]
  },
  {
   "cell_type": "code",
   "execution_count": null,
   "id": "minor-observation",
   "metadata": {},
   "outputs": [],
   "source": []
  }
 ],
 "metadata": {
  "kernelspec": {
   "display_name": "Python 3",
   "language": "python",
   "name": "python3"
  },
  "language_info": {
   "codemirror_mode": {
    "name": "ipython",
    "version": 3
   },
   "file_extension": ".py",
   "mimetype": "text/x-python",
   "name": "python",
   "nbconvert_exporter": "python",
   "pygments_lexer": "ipython3",
   "version": "3.8.8"
  }
 },
 "nbformat": 4,
 "nbformat_minor": 5
}
