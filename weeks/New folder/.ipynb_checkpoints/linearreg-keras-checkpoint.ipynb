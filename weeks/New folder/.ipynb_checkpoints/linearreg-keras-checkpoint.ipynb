{
 "cells": [
  {
   "cell_type": "markdown",
   "id": "preliminary-award",
   "metadata": {},
   "source": [
    "# Keras Examples\n",
    "Linear  Regression\n",
    "Train  a one layer neural network for linear regression"
   ]
  },
  {
   "cell_type": "code",
   "execution_count": 1,
   "id": "statutory-davis",
   "metadata": {},
   "outputs": [
    {
     "name": "stderr",
     "output_type": "stream",
     "text": [
      "Using TensorFlow backend.\n"
     ]
    }
   ],
   "source": [
    "'''\n",
    "Linear Regression\n",
    "'''\n",
    "# Import the necessry libraries \n",
    "\n",
    "from __future__ import print_function\n",
    "import numpy as np\n",
    "import matplotlib.pyplot as plt\n",
    "import keras\n",
    "from keras.models import Sequential\n",
    "from keras.layers import Dense, Dropout\n",
    "from keras.optimizers import SGD"
   ]
  },
  {
   "cell_type": "code",
   "execution_count": 2,
   "id": "satisfied-crest",
   "metadata": {},
   "outputs": [
    {
     "name": "stdout",
     "output_type": "stream",
     "text": [
      "40 train samples\n",
      "20 test samples\n"
     ]
    }
   ],
   "source": [
    "# Simulate some data as input dataset\n",
    "\n",
    "def SimulData():\n",
    "        # Simulate some data for training \n",
    "        x_train = np.arange(0,10, 0.25 )\n",
    "        x_train = x_train + 1.0/3.0 * np.random.randn(x_train.size);\n",
    "        y_train  = np.cos( x_train  * np.pi /7) +  0.1 * np.random.randn(x_train.size);\n",
    "\n",
    "        x_test = np.arange(0,10, 0.5 )\n",
    "        x_test = x_test + 1.0/3.0 * np.random.randn(x_test.size);\n",
    "        y_test  = np.cos( x_test  * np.pi /7)+  0.1 * np.random.randn(x_test.size)\n",
    "\n",
    "        return (x_train,y_train) , (x_test, y_test)\n",
    "    \n",
    "# the data, shuffled and split between train and test sets\n",
    "(x_train, y_train), (x_test, y_test) = SimulData();\n",
    "\n",
    "print(x_train.shape[0], 'train samples')\n",
    "print(x_test.shape[0], 'test samples')"
   ]
  },
  {
   "cell_type": "code",
   "execution_count": 3,
   "id": "resistant-recipient",
   "metadata": {
    "scrolled": false
   },
   "outputs": [
    {
     "name": "stdout",
     "output_type": "stream",
     "text": [
      "WARNING:tensorflow:From C:\\Users\\Sachin Jha\\.conda\\envs\\sachin\\lib\\site-packages\\tensorflow_core\\python\\ops\\resource_variable_ops.py:1630: calling BaseResourceVariable.__init__ (from tensorflow.python.ops.resource_variable_ops) with constraint is deprecated and will be removed in a future version.\n",
      "Instructions for updating:\n",
      "If using Keras pass *_constraint arguments to layers.\n",
      "Model: \"sequential_1\"\n",
      "_________________________________________________________________\n",
      "Layer (type)                 Output Shape              Param #   \n",
      "=================================================================\n",
      "dense_1 (Dense)              (None, 1)                 2         \n",
      "=================================================================\n",
      "Total params: 2\n",
      "Trainable params: 2\n",
      "Non-trainable params: 0\n",
      "_________________________________________________________________\n"
     ]
    }
   ],
   "source": [
    "# Defining the model \n",
    "\n",
    "# Define that it is a FF model\n",
    "model = Sequential()   \n",
    "\n",
    "# add a dense layer of weights\n",
    "model.add(Dense(1, activation='linear', input_shape=(1,)))\n",
    "\n",
    "\n",
    "# print the model \n",
    "model.summary()\n",
    "\n",
    "# Define the optimizer\n",
    "s1 = SGD(lr=0.01)\n",
    "\n",
    "# Set up the model algorithm, loss, optimizer \n",
    "model.compile(loss='mse',\n",
    "              optimizer=s1,\n",
    "              metrics=['mse'])"
   ]
  },
  {
   "cell_type": "code",
   "execution_count": 4,
   "id": "mexican-teaching",
   "metadata": {
    "scrolled": true
   },
   "outputs": [
    {
     "name": "stdout",
     "output_type": "stream",
     "text": [
      "WARNING:tensorflow:From C:\\Users\\Sachin Jha\\.conda\\envs\\sachin\\lib\\site-packages\\keras\\backend\\tensorflow_backend.py:422: The name tf.global_variables is deprecated. Please use tf.compat.v1.global_variables instead.\n",
      "\n",
      "Train on 40 samples, validate on 20 samples\n",
      "Epoch 1/20\n",
      "40/40 [==============================] - 0s 3ms/step - loss: 2.1397 - mse: 2.1397 - val_loss: 0.3223 - val_mse: 0.3223\n",
      "Epoch 2/20\n",
      "40/40 [==============================] - 0s 600us/step - loss: 0.3517 - mse: 0.3517 - val_loss: 0.3157 - val_mse: 0.3157\n",
      "Epoch 3/20\n",
      "40/40 [==============================] - 0s 400us/step - loss: 0.3282 - mse: 0.3282 - val_loss: 0.3129 - val_mse: 0.3129\n",
      "Epoch 4/20\n",
      "40/40 [==============================] - 0s 400us/step - loss: 0.3312 - mse: 0.3312 - val_loss: 0.2994 - val_mse: 0.2994\n",
      "Epoch 5/20\n",
      "40/40 [==============================] - 0s 400us/step - loss: 0.3123 - mse: 0.3123 - val_loss: 0.3140 - val_mse: 0.3140\n",
      "Epoch 6/20\n",
      "40/40 [==============================] - 0s 400us/step - loss: 0.3278 - mse: 0.3278 - val_loss: 0.2841 - val_mse: 0.2841\n",
      "Epoch 7/20\n",
      "40/40 [==============================] - 0s 399us/step - loss: 0.2987 - mse: 0.2987 - val_loss: 0.2890 - val_mse: 0.2890\n",
      "Epoch 8/20\n",
      "40/40 [==============================] - 0s 600us/step - loss: 0.3073 - mse: 0.3073 - val_loss: 0.2722 - val_mse: 0.2722\n",
      "Epoch 9/20\n",
      "40/40 [==============================] - 0s 400us/step - loss: 0.2849 - mse: 0.2849 - val_loss: 0.2656 - val_mse: 0.2656\n",
      "Epoch 10/20\n",
      "40/40 [==============================] - 0s 400us/step - loss: 0.2849 - mse: 0.2849 - val_loss: 0.2628 - val_mse: 0.2628\n",
      "Epoch 11/20\n",
      "40/40 [==============================] - 0s 400us/step - loss: 0.2828 - mse: 0.2828 - val_loss: 0.2550 - val_mse: 0.2550\n",
      "Epoch 12/20\n",
      "40/40 [==============================] - 0s 600us/step - loss: 0.2678 - mse: 0.2678 - val_loss: 0.2506 - val_mse: 0.2506\n",
      "Epoch 13/20\n",
      "40/40 [==============================] - 0s 600us/step - loss: 0.2687 - mse: 0.2687 - val_loss: 0.2455 - val_mse: 0.2455\n",
      "Epoch 14/20\n",
      "40/40 [==============================] - 0s 600us/step - loss: 0.2733 - mse: 0.2733 - val_loss: 0.2445 - val_mse: 0.2445\n",
      "Epoch 15/20\n",
      "40/40 [==============================] - 0s 400us/step - loss: 0.2594 - mse: 0.2594 - val_loss: 0.2605 - val_mse: 0.2605\n",
      "Epoch 16/20\n",
      "40/40 [==============================] - 0s 400us/step - loss: 0.2793 - mse: 0.2793 - val_loss: 0.2421 - val_mse: 0.2421\n",
      "Epoch 17/20\n",
      "40/40 [==============================] - 0s 400us/step - loss: 0.2545 - mse: 0.2545 - val_loss: 0.2291 - val_mse: 0.2291\n",
      "Epoch 18/20\n",
      "40/40 [==============================] - 0s 400us/step - loss: 0.2453 - mse: 0.2453 - val_loss: 0.2240 - val_mse: 0.2240\n",
      "Epoch 19/20\n",
      "40/40 [==============================] - 0s 400us/step - loss: 0.2580 - mse: 0.2580 - val_loss: 0.2252 - val_mse: 0.2252\n",
      "Epoch 20/20\n",
      "40/40 [==============================] - 0s 400us/step - loss: 0.2426 - mse: 0.2426 - val_loss: 0.2191 - val_mse: 0.2191\n",
      "Test loss: 0.21907813847064972\n"
     ]
    },
    {
     "data": {
      "image/png": "[encoded data removed]",
      "text/plain": [
       "<Figure size 432x288 with 1 Axes>"
      ]
     },
     "metadata": {
      "needs_background": "light"
     },
     "output_type": "display_data"
    }
   ],
   "source": [
    "# Train the model\n",
    "batch_size = 10\n",
    "epochs = 20\n",
    "\n",
    "history = model.fit(x_train, y_train,\n",
    "                    batch_size=batch_size,\n",
    "                    epochs=epochs,\n",
    "                    verbose=1,\n",
    "                    validation_data=(x_test, y_test))\n",
    "\n",
    "# perform prediction using the test data\n",
    "y_pred = model.predict(x_test);\n",
    "\n",
    "# Find the loss\n",
    "score = model.evaluate(x_test, y_test, verbose=0)\n",
    "print('Test loss:', score[0])\n",
    "\n",
    "# Plot the results\n",
    "tst = plt.plot(x_test,y_test,'r.',label='test');\n",
    "pred = plt.plot(x_test,y_pred,'m',label='pred');\n",
    "tr = plt.plot(x_train,y_train,'b.',label='train');\n",
    "\n",
    "plt.legend()\n",
    "plt.show()\n"
   ]
  },
  {
   "cell_type": "code",
   "execution_count": 5,
   "id": "2ed03819",
   "metadata": {},
   "outputs": [
    {
     "data": {
      "text/plain": [
       "dict_keys(['val_loss', 'val_mse', 'loss', 'mse'])"
      ]
     },
     "execution_count": 5,
     "metadata": {},
     "output_type": "execute_result"
    }
   ],
   "source": [
    "history.history.keys()"
   ]
  },
  {
   "cell_type": "code",
   "execution_count": 6,
   "id": "c22e8a0b",
   "metadata": {},
   "outputs": [
    {
     "ename": "KeyError",
     "evalue": "'accuracy'",
     "output_type": "error",
     "traceback": [
      "\u001b[1;31m---------------------------------------------------------------------------\u001b[0m",
      "\u001b[1;31mKeyError\u001b[0m                                  Traceback (most recent call last)",
      "\u001b[1;32m<ipython-input-6-26892116e3f0>\u001b[0m in \u001b[0;36m<module>\u001b[1;34m\u001b[0m\n\u001b[1;32m----> 1\u001b[1;33m \u001b[0mplt\u001b[0m\u001b[1;33m.\u001b[0m\u001b[0mplot\u001b[0m\u001b[1;33m(\u001b[0m\u001b[0mhistory\u001b[0m\u001b[1;33m.\u001b[0m\u001b[0mhistory\u001b[0m\u001b[1;33m[\u001b[0m\u001b[1;34m'accuracy'\u001b[0m\u001b[1;33m]\u001b[0m\u001b[1;33m)\u001b[0m\u001b[1;33m\u001b[0m\u001b[1;33m\u001b[0m\u001b[0m\n\u001b[0m\u001b[0;32m      2\u001b[0m \u001b[0mplt\u001b[0m\u001b[1;33m.\u001b[0m\u001b[0mplot\u001b[0m\u001b[1;33m(\u001b[0m\u001b[0mhistory\u001b[0m\u001b[1;33m.\u001b[0m\u001b[0mhistory\u001b[0m\u001b[1;33m[\u001b[0m\u001b[1;34m'val_accuracy'\u001b[0m\u001b[1;33m]\u001b[0m\u001b[1;33m)\u001b[0m\u001b[1;33m\u001b[0m\u001b[1;33m\u001b[0m\u001b[0m\n\u001b[0;32m      3\u001b[0m \u001b[0mplt\u001b[0m\u001b[1;33m.\u001b[0m\u001b[0mylabel\u001b[0m\u001b[1;33m(\u001b[0m\u001b[1;34m'accuracy'\u001b[0m\u001b[1;33m)\u001b[0m\u001b[1;33m\u001b[0m\u001b[1;33m\u001b[0m\u001b[0m\n\u001b[0;32m      4\u001b[0m \u001b[0mplt\u001b[0m\u001b[1;33m.\u001b[0m\u001b[0mxlabel\u001b[0m\u001b[1;33m(\u001b[0m\u001b[1;34m'epoch'\u001b[0m\u001b[1;33m)\u001b[0m\u001b[1;33m\u001b[0m\u001b[1;33m\u001b[0m\u001b[0m\n\u001b[0;32m      5\u001b[0m \u001b[0mplt\u001b[0m\u001b[1;33m.\u001b[0m\u001b[0mlegend\u001b[0m\u001b[1;33m(\u001b[0m\u001b[1;33m[\u001b[0m\u001b[1;34m'train'\u001b[0m\u001b[1;33m,\u001b[0m\u001b[1;34m'test'\u001b[0m\u001b[1;33m]\u001b[0m\u001b[1;33m,\u001b[0m \u001b[0mloc\u001b[0m \u001b[1;33m=\u001b[0m \u001b[1;34m'lower right'\u001b[0m\u001b[1;33m)\u001b[0m\u001b[1;33m\u001b[0m\u001b[1;33m\u001b[0m\u001b[0m\n",
      "\u001b[1;31mKeyError\u001b[0m: 'accuracy'"
     ]
    }
   ],
   "source": [
    "plt.plot(history.history['accuracy'])\n",
    "plt.plot(history.history['val_accuracy'])\n",
    "plt.ylabel('accuracy')\n",
    "plt.xlabel('epoch')\n",
    "plt.legend(['train','test'], loc = 'lower right')\n",
    "plt.show()"
   ]
  },
  {
   "cell_type": "code",
   "execution_count": null,
   "id": "documentary-stuart",
   "metadata": {},
   "outputs": [],
   "source": [
    "'''\n",
    "TODO - 1. Add one more layer of 50 hidden neurons \n",
    "          and compare the differences in the output\n",
    "       2. Compare the effect of L1 and L2 regularization \n",
    "          on the neural network in part 1\n",
    "       3. Understand the effect of dropout on the \n",
    "          neural network defined in part 1\n",
    "''' "
   ]
  },
  {
   "cell_type": "markdown",
   "id": "expected-boutique",
   "metadata": {},
   "source": [
    "# 1st ans"
   ]
  },
  {
   "cell_type": "code",
   "execution_count": 11,
   "id": "assisted-eleven",
   "metadata": {},
   "outputs": [
    {
     "name": "stdout",
     "output_type": "stream",
     "text": [
      "Model: \"sequential_3\"\n",
      "_________________________________________________________________\n",
      "Layer (type)                 Output Shape              Param #   \n",
      "=================================================================\n",
      "dense_4 (Dense)              (None, 50)                100       \n",
      "_________________________________________________________________\n",
      "dense_5 (Dense)              (None, 1)                 51        \n",
      "=================================================================\n",
      "Total params: 151\n",
      "Trainable params: 151\n",
      "Non-trainable params: 0\n",
      "_________________________________________________________________\n"
     ]
    }
   ],
   "source": [
    "# Defining the model \n",
    "\n",
    "# Define that it is a FF model\n",
    "model_1 = Sequential()   \n",
    "\n",
    "# add a dense layer of weights\n",
    "model_1.add(Dense(50, activation='linear', input_shape=(1,)))\n",
    "model_1.add(Dense(1))\n",
    "\n",
    "\n",
    "# print the model \n",
    "model_1.summary()\n",
    "\n",
    "# Define the optimizer\n",
    "s2 = SGD(lr=0.01)\n",
    "\n",
    "# Set up the model algorithm, loss, optimizer \n",
    "model_1.compile(loss='mse',\n",
    "              optimizer=s2,\n",
    "              metrics=['mse'])"
   ]
  },
  {
   "cell_type": "code",
   "execution_count": 6,
   "id": "capable-challenge",
   "metadata": {
    "scrolled": true
   },
   "outputs": [
    {
     "name": "stdout",
     "output_type": "stream",
     "text": [
      "Epoch 1/40\n",
      "4/4 [==============================] - 0s 19ms/step - loss: 17.9904 - mse: 17.9904 - val_loss: 57.9678 - val_mse: 57.9678\n",
      "Epoch 2/40\n",
      "4/4 [==============================] - 0s 4ms/step - loss: 13.6774 - mse: 13.6774 - val_loss: 0.3203 - val_mse: 0.3203\n",
      "Epoch 3/40\n",
      "4/4 [==============================] - 0s 4ms/step - loss: 0.3725 - mse: 0.3725 - val_loss: 0.3053 - val_mse: 0.3053\n",
      "Epoch 4/40\n",
      "4/4 [==============================] - 0s 4ms/step - loss: 0.3617 - mse: 0.3617 - val_loss: 0.2945 - val_mse: 0.2945\n",
      "Epoch 5/40\n",
      "4/4 [==============================] - 0s 4ms/step - loss: 0.3526 - mse: 0.3526 - val_loss: 0.2847 - val_mse: 0.2847\n",
      "Epoch 6/40\n",
      "4/4 [==============================] - 0s 4ms/step - loss: 0.3432 - mse: 0.3432 - val_loss: 0.2754 - val_mse: 0.2754\n",
      "Epoch 7/40\n",
      "4/4 [==============================] - 0s 4ms/step - loss: 0.3308 - mse: 0.3308 - val_loss: 0.2669 - val_mse: 0.2669\n",
      "Epoch 8/40\n",
      "4/4 [==============================] - 0s 4ms/step - loss: 0.3232 - mse: 0.3232 - val_loss: 0.2590 - val_mse: 0.2590\n",
      "Epoch 9/40\n",
      "4/4 [==============================] - 0s 4ms/step - loss: 0.3248 - mse: 0.3248 - val_loss: 0.2542 - val_mse: 0.2542\n",
      "Epoch 10/40\n",
      "4/4 [==============================] - 0s 4ms/step - loss: 0.3149 - mse: 0.3149 - val_loss: 0.2442 - val_mse: 0.2442\n",
      "Epoch 11/40\n",
      "4/4 [==============================] - 0s 5ms/step - loss: 0.3019 - mse: 0.3019 - val_loss: 0.2369 - val_mse: 0.2369\n",
      "Epoch 12/40\n",
      "4/4 [==============================] - 0s 4ms/step - loss: 0.2989 - mse: 0.2989 - val_loss: 0.2308 - val_mse: 0.2308\n",
      "Epoch 13/40\n",
      "4/4 [==============================] - 0s 4ms/step - loss: 0.2927 - mse: 0.2927 - val_loss: 0.2243 - val_mse: 0.2243\n",
      "Epoch 14/40\n",
      "4/4 [==============================] - 0s 4ms/step - loss: 0.2783 - mse: 0.2783 - val_loss: 0.2181 - val_mse: 0.2181\n",
      "Epoch 15/40\n",
      "4/4 [==============================] - 0s 4ms/step - loss: 0.2726 - mse: 0.2726 - val_loss: 0.2125 - val_mse: 0.2125\n",
      "Epoch 16/40\n",
      "4/4 [==============================] - 0s 4ms/step - loss: 0.2683 - mse: 0.2683 - val_loss: 0.2075 - val_mse: 0.2075\n",
      "Epoch 17/40\n",
      "4/4 [==============================] - 0s 4ms/step - loss: 0.2621 - mse: 0.2621 - val_loss: 0.2028 - val_mse: 0.2028\n",
      "Epoch 18/40\n",
      "4/4 [==============================] - 0s 4ms/step - loss: 0.2587 - mse: 0.2587 - val_loss: 0.1984 - val_mse: 0.1984\n",
      "Epoch 19/40\n",
      "4/4 [==============================] - 0s 4ms/step - loss: 0.2598 - mse: 0.2598 - val_loss: 0.1957 - val_mse: 0.1957\n",
      "Epoch 20/40\n",
      "4/4 [==============================] - 0s 4ms/step - loss: 0.2532 - mse: 0.2532 - val_loss: 0.1884 - val_mse: 0.1884\n",
      "Epoch 21/40\n",
      "4/4 [==============================] - 0s 4ms/step - loss: 0.2519 - mse: 0.2519 - val_loss: 0.1842 - val_mse: 0.1842\n",
      "Epoch 22/40\n",
      "4/4 [==============================] - 0s 5ms/step - loss: 0.2397 - mse: 0.2397 - val_loss: 0.1802 - val_mse: 0.1802\n",
      "Epoch 23/40\n",
      "4/4 [==============================] - 0s 5ms/step - loss: 0.2388 - mse: 0.2388 - val_loss: 0.1771 - val_mse: 0.1771\n",
      "Epoch 24/40\n",
      "4/4 [==============================] - 0s 4ms/step - loss: 0.2336 - mse: 0.2336 - val_loss: 0.1730 - val_mse: 0.1730\n",
      "Epoch 25/40\n",
      "4/4 [==============================] - 0s 4ms/step - loss: 0.2272 - mse: 0.2272 - val_loss: 0.1696 - val_mse: 0.1696\n",
      "Epoch 26/40\n",
      "4/4 [==============================] - 0s 5ms/step - loss: 0.2223 - mse: 0.2223 - val_loss: 0.1669 - val_mse: 0.1669\n",
      "Epoch 27/40\n",
      "4/4 [==============================] - 0s 4ms/step - loss: 0.2289 - mse: 0.2289 - val_loss: 0.1649 - val_mse: 0.1649\n",
      "Epoch 28/40\n",
      "4/4 [==============================] - 0s 5ms/step - loss: 0.2185 - mse: 0.2185 - val_loss: 0.1607 - val_mse: 0.1607\n",
      "Epoch 29/40\n",
      "4/4 [==============================] - 0s 4ms/step - loss: 0.2293 - mse: 0.2293 - val_loss: 0.1590 - val_mse: 0.1590\n",
      "Epoch 30/40\n",
      "4/4 [==============================] - 0s 4ms/step - loss: 0.2206 - mse: 0.2206 - val_loss: 0.1556 - val_mse: 0.1556\n",
      "Epoch 31/40\n",
      "4/4 [==============================] - 0s 5ms/step - loss: 0.2157 - mse: 0.2157 - val_loss: 0.1532 - val_mse: 0.1532\n",
      "Epoch 32/40\n",
      "4/4 [==============================] - 0s 4ms/step - loss: 0.2165 - mse: 0.2165 - val_loss: 0.1512 - val_mse: 0.1512\n",
      "Epoch 33/40\n",
      "4/4 [==============================] - 0s 5ms/step - loss: 0.2055 - mse: 0.2055 - val_loss: 0.1491 - val_mse: 0.1491\n",
      "Epoch 34/40\n",
      "4/4 [==============================] - 0s 4ms/step - loss: 0.2130 - mse: 0.2130 - val_loss: 0.1494 - val_mse: 0.1494\n",
      "Epoch 35/40\n",
      "4/4 [==============================] - 0s 4ms/step - loss: 0.2018 - mse: 0.2018 - val_loss: 0.1450 - val_mse: 0.1450\n",
      "Epoch 36/40\n",
      "4/4 [==============================] - 0s 4ms/step - loss: 0.1972 - mse: 0.1972 - val_loss: 0.1444 - val_mse: 0.1444\n",
      "Epoch 37/40\n",
      "4/4 [==============================] - 0s 4ms/step - loss: 0.2109 - mse: 0.2109 - val_loss: 0.1415 - val_mse: 0.1415\n",
      "Epoch 38/40\n",
      "4/4 [==============================] - 0s 4ms/step - loss: 0.1931 - mse: 0.1931 - val_loss: 0.1401 - val_mse: 0.1401\n",
      "Epoch 39/40\n",
      "4/4 [==============================] - 0s 4ms/step - loss: 0.1910 - mse: 0.1910 - val_loss: 0.1384 - val_mse: 0.1384\n",
      "Epoch 40/40\n",
      "4/4 [==============================] - 0s 4ms/step - loss: 0.1948 - mse: 0.1948 - val_loss: 0.1375 - val_mse: 0.1375\n",
      "Test loss: 0.13746154308319092\n"
     ]
    },
    {
     "data": {
      "image/png": "[encoded data removed]",
      "text/plain": [
       "<Figure size 432x288 with 1 Axes>"
      ]
     },
     "metadata": {
      "needs_background": "light"
     },
     "output_type": "display_data"
    }
   ],
   "source": [
    "# Train the model\n",
    "batch_size = 10\n",
    "epochs1 = 40\n",
    "\n",
    "history1 = model_1.fit(x_train, y_train,\n",
    "                    batch_size=batch_size,\n",
    "                    epochs=epochs1,\n",
    "                    verbose=1,\n",
    "                    validation_data=(x_test, y_test))\n",
    "\n",
    "# perform prediction using the test data\n",
    "y_pred1 = model_1.predict(x_test);\n",
    "\n",
    "# Find the loss\n",
    "score1 = model_1.evaluate(x_test, y_test, verbose=0)\n",
    "print('Test loss:', score1[0])\n",
    "\n",
    "# Plot the results\n",
    "tst1 = plt.plot(x_test,y_test,'r.',label='test');\n",
    "pred1 = plt.plot(x_test,y_pred,'m',label='pred');\n",
    "tr1 = plt.plot(x_train,y_train,'b.',label='train');\n",
    "\n",
    "plt.legend()\n",
    "plt.show()\n"
   ]
  },
  {
   "cell_type": "markdown",
   "id": "sharing-season",
   "metadata": {},
   "source": [
    "# 2nd ans"
   ]
  },
  {
   "cell_type": "code",
   "execution_count": 7,
   "id": "stretch-zealand",
   "metadata": {},
   "outputs": [
    {
     "name": "stdout",
     "output_type": "stream",
     "text": [
      "Model: \"sequential_2\"\n",
      "_________________________________________________________________\n",
      "Layer (type)                 Output Shape              Param #   \n",
      "=================================================================\n",
      "dense_3 (Dense)              (None, 50)                100       \n",
      "_________________________________________________________________\n",
      "dense_4 (Dense)              (None, 1)                 51        \n",
      "=================================================================\n",
      "Total params: 151\n",
      "Trainable params: 151\n",
      "Non-trainable params: 0\n",
      "_________________________________________________________________\n"
     ]
    }
   ],
   "source": [
    "from keras import regularizers\n",
    "# Defining the model \n",
    "\n",
    "# Define that it is a FF model\n",
    "model_2 = Sequential()   \n",
    "\n",
    "# add a dense layer of weights\n",
    "model_2.add(Dense(50, activation='linear', input_shape=(1,),kernel_regularizer=regularizers.l2(0.01)))\n",
    "model_2.add(Dense(1))\n",
    "\n",
    "\n",
    "# print the model \n",
    "model_2.summary()\n",
    "\n",
    "# Define the optimizer\n",
    "s3 = SGD(lr=0.01)\n",
    "\n",
    "# Set up the model algorithm, loss, optimizer \n",
    "model_2.compile(loss='mse',\n",
    "              optimizer=s3,\n",
    "              metrics=['mse'])"
   ]
  },
  {
   "cell_type": "code",
   "execution_count": 8,
   "id": "committed-technology",
   "metadata": {
    "scrolled": true
   },
   "outputs": [
    {
     "name": "stdout",
     "output_type": "stream",
     "text": [
      "Epoch 1/40\n",
      "4/4 [==============================] - 0s 22ms/step - loss: 14.0673 - mse: 14.0471 - val_loss: 29.5669 - val_mse: 29.5531\n",
      "Epoch 2/40\n",
      "4/4 [==============================] - 0s 4ms/step - loss: 8.5038 - mse: 8.4965 - val_loss: 0.2989 - val_mse: 0.2938\n",
      "Epoch 3/40\n",
      "4/4 [==============================] - 0s 4ms/step - loss: 0.2862 - mse: 0.2811 - val_loss: 0.2805 - val_mse: 0.2754\n",
      "Epoch 4/40\n",
      "4/4 [==============================] - 0s 5ms/step - loss: 0.2839 - mse: 0.2788 - val_loss: 0.2753 - val_mse: 0.2703\n",
      "Epoch 5/40\n",
      "4/4 [==============================] - 0s 5ms/step - loss: 0.2868 - mse: 0.2817 - val_loss: 0.2658 - val_mse: 0.2607\n",
      "Epoch 6/40\n",
      "4/4 [==============================] - 0s 5ms/step - loss: 0.2795 - mse: 0.2744 - val_loss: 0.2780 - val_mse: 0.2730\n",
      "Epoch 7/40\n",
      "4/4 [==============================] - 0s 5ms/step - loss: 0.2832 - mse: 0.2782 - val_loss: 0.2473 - val_mse: 0.2422\n",
      "Epoch 8/40\n",
      "4/4 [==============================] - 0s 4ms/step - loss: 0.2599 - mse: 0.2548 - val_loss: 0.2451 - val_mse: 0.2400\n",
      "Epoch 9/40\n",
      "4/4 [==============================] - 0s 5ms/step - loss: 0.2540 - mse: 0.2490 - val_loss: 0.2553 - val_mse: 0.2503\n",
      "Epoch 10/40\n",
      "4/4 [==============================] - 0s 4ms/step - loss: 0.2458 - mse: 0.2408 - val_loss: 0.2277 - val_mse: 0.2226\n",
      "Epoch 11/40\n",
      "4/4 [==============================] - 0s 4ms/step - loss: 0.2487 - mse: 0.2436 - val_loss: 0.2199 - val_mse: 0.2149\n",
      "Epoch 12/40\n",
      "4/4 [==============================] - 0s 5ms/step - loss: 0.2442 - mse: 0.2393 - val_loss: 0.2206 - val_mse: 0.2155\n",
      "Epoch 13/40\n",
      "4/4 [==============================] - 0s 6ms/step - loss: 0.2362 - mse: 0.2311 - val_loss: 0.2146 - val_mse: 0.2097\n",
      "Epoch 14/40\n",
      "4/4 [==============================] - 0s 4ms/step - loss: 0.2301 - mse: 0.2251 - val_loss: 0.2039 - val_mse: 0.1990\n",
      "Epoch 15/40\n",
      "4/4 [==============================] - 0s 4ms/step - loss: 0.2195 - mse: 0.2145 - val_loss: 0.2133 - val_mse: 0.2084\n",
      "Epoch 16/40\n",
      "4/4 [==============================] - 0s 5ms/step - loss: 0.2262 - mse: 0.2213 - val_loss: 0.2009 - val_mse: 0.1959\n",
      "Epoch 17/40\n",
      "4/4 [==============================] - 0s 5ms/step - loss: 0.2451 - mse: 0.2401 - val_loss: 0.2210 - val_mse: 0.2162\n",
      "Epoch 18/40\n",
      "4/4 [==============================] - 0s 5ms/step - loss: 0.2222 - mse: 0.2173 - val_loss: 0.2015 - val_mse: 0.1966\n",
      "Epoch 19/40\n",
      "4/4 [==============================] - 0s 5ms/step - loss: 0.2103 - mse: 0.2054 - val_loss: 0.1803 - val_mse: 0.1753\n",
      "Epoch 20/40\n",
      "4/4 [==============================] - 0s 4ms/step - loss: 0.2094 - mse: 0.2045 - val_loss: 0.1763 - val_mse: 0.1713\n",
      "Epoch 21/40\n",
      "4/4 [==============================] - 0s 5ms/step - loss: 0.2092 - mse: 0.2043 - val_loss: 0.1749 - val_mse: 0.1700\n",
      "Epoch 22/40\n",
      "4/4 [==============================] - 0s 5ms/step - loss: 0.2152 - mse: 0.2103 - val_loss: 0.1801 - val_mse: 0.1751\n",
      "Epoch 23/40\n",
      "4/4 [==============================] - 0s 5ms/step - loss: 0.2379 - mse: 0.2331 - val_loss: 0.1778 - val_mse: 0.1729\n",
      "Epoch 24/40\n",
      "4/4 [==============================] - 0s 4ms/step - loss: 0.1959 - mse: 0.1910 - val_loss: 0.1729 - val_mse: 0.1681\n",
      "Epoch 25/40\n",
      "4/4 [==============================] - 0s 4ms/step - loss: 0.2093 - mse: 0.2045 - val_loss: 0.1656 - val_mse: 0.1607\n",
      "Epoch 26/40\n",
      "4/4 [==============================] - 0s 4ms/step - loss: 0.1937 - mse: 0.1889 - val_loss: 0.1706 - val_mse: 0.1658\n",
      "Epoch 27/40\n",
      "4/4 [==============================] - 0s 4ms/step - loss: 0.1898 - mse: 0.1850 - val_loss: 0.1572 - val_mse: 0.1524\n",
      "Epoch 28/40\n",
      "4/4 [==============================] - 0s 4ms/step - loss: 0.1877 - mse: 0.1829 - val_loss: 0.1547 - val_mse: 0.1499\n",
      "Epoch 29/40\n",
      "4/4 [==============================] - 0s 5ms/step - loss: 0.1851 - mse: 0.1803 - val_loss: 0.1585 - val_mse: 0.1537\n",
      "Epoch 30/40\n",
      "4/4 [==============================] - 0s 5ms/step - loss: 0.1949 - mse: 0.1901 - val_loss: 0.1498 - val_mse: 0.1450\n",
      "Epoch 31/40\n",
      "4/4 [==============================] - 0s 5ms/step - loss: 0.1819 - mse: 0.1771 - val_loss: 0.1456 - val_mse: 0.1408\n",
      "Epoch 32/40\n",
      "4/4 [==============================] - 0s 4ms/step - loss: 0.1803 - mse: 0.1755 - val_loss: 0.1458 - val_mse: 0.1410\n",
      "Epoch 33/40\n",
      "4/4 [==============================] - 0s 4ms/step - loss: 0.1865 - mse: 0.1817 - val_loss: 0.1469 - val_mse: 0.1420\n",
      "Epoch 34/40\n",
      "4/4 [==============================] - 0s 4ms/step - loss: 0.1819 - mse: 0.1771 - val_loss: 0.1440 - val_mse: 0.1393\n",
      "Epoch 35/40\n",
      "4/4 [==============================] - 0s 4ms/step - loss: 0.2082 - mse: 0.2035 - val_loss: 0.1569 - val_mse: 0.1522\n",
      "Epoch 36/40\n",
      "4/4 [==============================] - 0s 4ms/step - loss: 0.1900 - mse: 0.1853 - val_loss: 0.1389 - val_mse: 0.1342\n",
      "Epoch 37/40\n",
      "4/4 [==============================] - 0s 8ms/step - loss: 0.1825 - mse: 0.1778 - val_loss: 0.1371 - val_mse: 0.1324\n",
      "Epoch 38/40\n",
      "4/4 [==============================] - 0s 5ms/step - loss: 0.1734 - mse: 0.1687 - val_loss: 0.1328 - val_mse: 0.1281\n",
      "Epoch 39/40\n",
      "4/4 [==============================] - 0s 4ms/step - loss: 0.1737 - mse: 0.1690 - val_loss: 0.1345 - val_mse: 0.1298\n",
      "Epoch 40/40\n",
      "4/4 [==============================] - 0s 5ms/step - loss: 0.1781 - mse: 0.1734 - val_loss: 0.1488 - val_mse: 0.1441\n",
      "Test loss: 0.14876024425029755\n"
     ]
    },
    {
     "data": {
      "image/png": "[encoded data removed]",
      "text/plain": [
       "<Figure size 432x288 with 1 Axes>"
      ]
     },
     "metadata": {
      "needs_background": "light"
     },
     "output_type": "display_data"
    }
   ],
   "source": [
    "# Train the model\n",
    "batch_size = 10\n",
    "epochs1 = 40\n",
    "\n",
    "history2 = model_2.fit(x_train, y_train,\n",
    "                    batch_size=batch_size,\n",
    "                    epochs=epochs1,\n",
    "                    verbose=1,\n",
    "                    validation_data=(x_test, y_test))\n",
    "\n",
    "# perform prediction using the test data\n",
    "y_pred2 = model_2.predict(x_test);\n",
    "\n",
    "# Find the loss\n",
    "score2 = model_2.evaluate(x_test, y_test, verbose=0)\n",
    "print('Test loss:', score2[0])\n",
    "\n",
    "# Plot the results\n",
    "tst2 = plt.plot(x_test,y_test,'r.',label='test');\n",
    "pred2 = plt.plot(x_test,y_pred,'m',label='pred');\n",
    "tr2 = plt.plot(x_train,y_train,'b.',label='train');\n",
    "\n",
    "plt.legend()\n",
    "plt.show()\n"
   ]
  },
  {
   "cell_type": "markdown",
   "id": "liquid-diagram",
   "metadata": {},
   "source": [
    "# 3rd ans"
   ]
  },
  {
   "cell_type": "code",
   "execution_count": 11,
   "id": "developed-trademark",
   "metadata": {},
   "outputs": [
    {
     "name": "stdout",
     "output_type": "stream",
     "text": [
      "Model: \"sequential_4\"\n",
      "_________________________________________________________________\n",
      "Layer (type)                 Output Shape              Param #   \n",
      "=================================================================\n",
      "dense_7 (Dense)              (None, 50)                100       \n",
      "_________________________________________________________________\n",
      "dropout_1 (Dropout)          (None, 50)                0         \n",
      "_________________________________________________________________\n",
      "dense_8 (Dense)              (None, 1)                 51        \n",
      "=================================================================\n",
      "Total params: 151\n",
      "Trainable params: 151\n",
      "Non-trainable params: 0\n",
      "_________________________________________________________________\n"
     ]
    }
   ],
   "source": [
    "\n",
    "# Defining the model \n",
    "\n",
    "# Define that it is a FF model\n",
    "model_3 = Sequential()   \n",
    "\n",
    "# add a dense layer of weights\n",
    "model_3.add(Dense(50, activation='linear', input_shape=(1,)))\n",
    "model_3.add(Dropout(0.25))\n",
    "model_3.add(Dense(1))\n",
    "\n",
    "\n",
    "# print the model \n",
    "model_3.summary()\n",
    "\n",
    "# Define the optimizer\n",
    "s4 = SGD(lr=0.01)\n",
    "\n",
    "# Set up the model algorithm, loss, optimizer \n",
    "model_3.compile(loss='mse',\n",
    "              optimizer=s4,\n",
    "              metrics=['mse'])"
   ]
  },
  {
   "cell_type": "code",
   "execution_count": 12,
   "id": "chubby-causing",
   "metadata": {
    "scrolled": true
   },
   "outputs": [
    {
     "name": "stdout",
     "output_type": "stream",
     "text": [
      "Epoch 1/40\n",
      "4/4 [==============================] - 0s 21ms/step - loss: 3.5997 - mse: 3.5997 - val_loss: 2.6210 - val_mse: 2.6210\n",
      "Epoch 2/40\n",
      "4/4 [==============================] - 0s 7ms/step - loss: 2.6399 - mse: 2.6399 - val_loss: 0.5303 - val_mse: 0.5303\n",
      "Epoch 3/40\n",
      "4/4 [==============================] - 0s 4ms/step - loss: 1.5249 - mse: 1.5249 - val_loss: 0.9225 - val_mse: 0.9225\n",
      "Epoch 4/40\n",
      "4/4 [==============================] - 0s 4ms/step - loss: 1.1170 - mse: 1.1170 - val_loss: 0.4668 - val_mse: 0.4668\n",
      "Epoch 5/40\n",
      "4/4 [==============================] - 0s 4ms/step - loss: 0.7710 - mse: 0.7710 - val_loss: 0.6905 - val_mse: 0.6905\n",
      "Epoch 6/40\n",
      "4/4 [==============================] - 0s 5ms/step - loss: 0.6107 - mse: 0.6107 - val_loss: 0.3085 - val_mse: 0.3085\n",
      "Epoch 7/40\n",
      "4/4 [==============================] - 0s 4ms/step - loss: 0.4207 - mse: 0.4207 - val_loss: 0.3014 - val_mse: 0.3014\n",
      "Epoch 8/40\n",
      "4/4 [==============================] - 0s 4ms/step - loss: 0.5524 - mse: 0.5524 - val_loss: 0.2968 - val_mse: 0.2968\n",
      "Epoch 9/40\n",
      "4/4 [==============================] - 0s 4ms/step - loss: 0.8540 - mse: 0.8540 - val_loss: 0.2396 - val_mse: 0.2396\n",
      "Epoch 10/40\n",
      "4/4 [==============================] - 0s 5ms/step - loss: 0.5920 - mse: 0.5920 - val_loss: 0.2917 - val_mse: 0.2917\n",
      "Epoch 11/40\n",
      "4/4 [==============================] - 0s 5ms/step - loss: 0.3851 - mse: 0.3851 - val_loss: 0.4143 - val_mse: 0.4143\n",
      "Epoch 12/40\n",
      "4/4 [==============================] - 0s 5ms/step - loss: 0.3934 - mse: 0.3934 - val_loss: 0.2255 - val_mse: 0.2255\n",
      "Epoch 13/40\n",
      "4/4 [==============================] - 0s 5ms/step - loss: 0.2546 - mse: 0.2546 - val_loss: 0.2078 - val_mse: 0.2078\n",
      "Epoch 14/40\n",
      "4/4 [==============================] - 0s 5ms/step - loss: 0.2755 - mse: 0.2755 - val_loss: 0.2067 - val_mse: 0.2067\n",
      "Epoch 15/40\n",
      "4/4 [==============================] - 0s 5ms/step - loss: 0.2846 - mse: 0.2846 - val_loss: 0.2001 - val_mse: 0.2001\n",
      "Epoch 16/40\n",
      "4/4 [==============================] - 0s 4ms/step - loss: 0.2342 - mse: 0.2342 - val_loss: 0.2035 - val_mse: 0.2035\n",
      "Epoch 17/40\n",
      "4/4 [==============================] - 0s 4ms/step - loss: 0.2331 - mse: 0.2331 - val_loss: 0.1947 - val_mse: 0.1947\n",
      "Epoch 18/40\n",
      "4/4 [==============================] - 0s 5ms/step - loss: 0.2857 - mse: 0.2857 - val_loss: 0.1889 - val_mse: 0.1889\n",
      "Epoch 19/40\n",
      "4/4 [==============================] - 0s 5ms/step - loss: 0.3353 - mse: 0.3353 - val_loss: 0.1876 - val_mse: 0.1876\n",
      "Epoch 20/40\n",
      "4/4 [==============================] - 0s 5ms/step - loss: 0.3519 - mse: 0.3519 - val_loss: 0.1850 - val_mse: 0.1850\n",
      "Epoch 21/40\n",
      "4/4 [==============================] - 0s 5ms/step - loss: 0.2448 - mse: 0.2448 - val_loss: 0.1684 - val_mse: 0.1684\n",
      "Epoch 22/40\n",
      "4/4 [==============================] - 0s 5ms/step - loss: 0.2636 - mse: 0.2636 - val_loss: 0.1650 - val_mse: 0.1650\n",
      "Epoch 23/40\n",
      "4/4 [==============================] - 0s 4ms/step - loss: 0.2109 - mse: 0.2109 - val_loss: 0.1908 - val_mse: 0.1908\n",
      "Epoch 24/40\n",
      "4/4 [==============================] - 0s 4ms/step - loss: 0.2431 - mse: 0.2431 - val_loss: 0.1601 - val_mse: 0.1601\n",
      "Epoch 25/40\n",
      "4/4 [==============================] - 0s 5ms/step - loss: 0.2078 - mse: 0.2078 - val_loss: 0.1788 - val_mse: 0.1788\n",
      "Epoch 26/40\n",
      "4/4 [==============================] - 0s 4ms/step - loss: 0.2319 - mse: 0.2319 - val_loss: 0.1649 - val_mse: 0.1649\n",
      "Epoch 27/40\n",
      "4/4 [==============================] - 0s 4ms/step - loss: 0.2963 - mse: 0.2963 - val_loss: 0.1565 - val_mse: 0.1565\n",
      "Epoch 28/40\n",
      "4/4 [==============================] - 0s 5ms/step - loss: 0.2197 - mse: 0.2197 - val_loss: 0.1691 - val_mse: 0.1691\n",
      "Epoch 29/40\n",
      "4/4 [==============================] - 0s 4ms/step - loss: 0.2575 - mse: 0.2575 - val_loss: 0.1694 - val_mse: 0.1694\n",
      "Epoch 30/40\n",
      "4/4 [==============================] - 0s 4ms/step - loss: 0.2191 - mse: 0.2191 - val_loss: 0.1435 - val_mse: 0.1435\n",
      "Epoch 31/40\n",
      "4/4 [==============================] - 0s 4ms/step - loss: 0.2980 - mse: 0.2980 - val_loss: 0.1495 - val_mse: 0.1495\n",
      "Epoch 32/40\n",
      "4/4 [==============================] - 0s 5ms/step - loss: 0.2356 - mse: 0.2356 - val_loss: 0.1397 - val_mse: 0.1397\n",
      "Epoch 33/40\n",
      "4/4 [==============================] - 0s 4ms/step - loss: 0.2136 - mse: 0.2136 - val_loss: 0.1635 - val_mse: 0.1635\n",
      "Epoch 34/40\n",
      "4/4 [==============================] - 0s 4ms/step - loss: 0.2773 - mse: 0.2773 - val_loss: 0.1441 - val_mse: 0.1441\n",
      "Epoch 35/40\n",
      "4/4 [==============================] - 0s 5ms/step - loss: 0.2226 - mse: 0.2226 - val_loss: 0.1548 - val_mse: 0.1548\n",
      "Epoch 36/40\n",
      "4/4 [==============================] - 0s 4ms/step - loss: 0.1797 - mse: 0.1797 - val_loss: 0.1316 - val_mse: 0.1316\n",
      "Epoch 37/40\n",
      "4/4 [==============================] - 0s 4ms/step - loss: 0.1909 - mse: 0.1909 - val_loss: 0.1702 - val_mse: 0.1702\n",
      "Epoch 38/40\n",
      "4/4 [==============================] - 0s 4ms/step - loss: 0.1929 - mse: 0.1929 - val_loss: 0.1541 - val_mse: 0.1541\n",
      "Epoch 39/40\n",
      "4/4 [==============================] - 0s 5ms/step - loss: 0.1817 - mse: 0.1817 - val_loss: 0.1313 - val_mse: 0.1313\n",
      "Epoch 40/40\n",
      "4/4 [==============================] - 0s 4ms/step - loss: 0.1910 - mse: 0.1910 - val_loss: 0.1268 - val_mse: 0.1268\n",
      "WARNING:tensorflow:5 out of the last 5 calls to <function Model.make_predict_function.<locals>.predict_function at 0x7f24b431ba60> triggered tf.function retracing. Tracing is expensive and the excessive number of tracings could be due to (1) creating @tf.function repeatedly in a loop, (2) passing tensors with different shapes, (3) passing Python objects instead of tensors. For (1), please define your @tf.function outside of the loop. For (2), @tf.function has experimental_relax_shapes=True option that relaxes argument shapes that can avoid unnecessary retracing. For (3), please refer to https://www.tensorflow.org/tutorials/customization/performance#python_or_tensor_args and https://www.tensorflow.org/api_docs/python/tf/function for  more details.\n",
      "Test loss: 0.1267561912536621\n"
     ]
    },
    {
     "data": {
      "image/png": "[encoded data removed]",
      "text/plain": [
       "<Figure size 432x288 with 1 Axes>"
      ]
     },
     "metadata": {
      "needs_background": "light"
     },
     "output_type": "display_data"
    }
   ],
   "source": [
    "# Train the model\n",
    "batch_size = 10\n",
    "epochs1 = 40\n",
    "\n",
    "history3 = model_3.fit(x_train, y_train,\n",
    "                    batch_size=batch_size,\n",
    "                    epochs=epochs1,\n",
    "                    verbose=1,\n",
    "                    validation_data=(x_test, y_test))\n",
    "\n",
    "# perform prediction using the test data\n",
    "y_pred3 = model_3.predict(x_test);\n",
    "\n",
    "# Find the loss\n",
    "score3 = model_3.evaluate(x_test, y_test, verbose=0)\n",
    "print('Test loss:', score3[0])\n",
    "\n",
    "# Plot the results\n",
    "tst3 = plt.plot(x_test,y_test,'r.',label='test');\n",
    "pred3 = plt.plot(x_test,y_pred,'m',label='pred');\n",
    "tr3 = plt.plot(x_train,y_train,'b.',label='train');\n",
    "\n",
    "plt.legend()\n",
    "plt.show()\n"
   ]
  },
  {
   "cell_type": "code",
   "execution_count": null,
   "id": "minor-observation",
   "metadata": {},
   "outputs": [],
   "source": []
  }
 ],
 "metadata": {
  "kernelspec": {
   "display_name": "Python 3",
   "language": "python",
   "name": "python3"
  },
  "language_info": {
   "codemirror_mode": {
    "name": "ipython",
    "version": 3
   },
   "file_extension": ".py",
   "mimetype": "text/x-python",
   "name": "python",
   "nbconvert_exporter": "python",
   "pygments_lexer": "ipython3",
   "version": "3.6.12"
  }
 },
 "nbformat": 4,
 "nbformat_minor": 5
}
