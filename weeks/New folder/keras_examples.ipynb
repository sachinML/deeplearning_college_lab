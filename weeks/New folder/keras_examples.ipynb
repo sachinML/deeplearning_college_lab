{
 "cells": [
  {
   "cell_type": "markdown",
   "id": "closing-clone",
   "metadata": {},
   "source": [
    "### Keras Examples\n",
    "   #### Dense Model "
   ]
  },
  {
   "cell_type": "code",
   "execution_count": 1,
   "id": "gorgeous-namibia",
   "metadata": {},
   "outputs": [
    {
     "name": "stdout",
     "output_type": "stream",
     "text": [
      "40 train samples\n",
      "20 test samples\n"
     ]
    }
   ],
   "source": [
    "'''Trains a simple Linear Regressin on a simulated data\n",
    "'''\n",
    "\n",
    "from __future__ import print_function\n",
    "import numpy as np \n",
    "import matplotlib.pyplot as plt\n",
    "import keras\n",
    "from keras.models import Sequential\n",
    "from keras.layers import Dense, Dropout\n",
    "from keras.optimizers import SGD \n",
    "\n",
    "\n",
    "batch_size = 10\n",
    "epochs = 20\n",
    "\n",
    "def SimulData():\n",
    "\t# Simulate some data for training \n",
    "\tx_train = np.arange(0,10, 0.25 ) \n",
    "\tx_train = x_train + 1.0/3.0 * np.random.randn(x_train.size);\n",
    "\ty_train  = np.cos( x_train  * np.pi /7) +  0.1 * np.random.randn(x_train.size);\n",
    "\n",
    "\tx_test = np.arange(0,10, 0.5 ) \n",
    "\tx_test = x_test + 1.0/3.0 * np.random.randn(x_test.size);\n",
    "\ty_test  = np.cos( x_test  * np.pi /7)+  0.1 * np.random.randn(x_test.size) \n",
    "\n",
    "\treturn (x_train,y_train) , (x_test, y_test)\n",
    "\n",
    "\n",
    "# the data, shuffled and split between train and test sets\n",
    "(x_train, y_train), (x_test, y_test) = SimulData(); \n",
    "\n",
    "print(x_train.shape[0], 'train samples')\n",
    "print(x_test.shape[0], 'test samples')\n",
    "\n"
   ]
  },
  {
   "cell_type": "code",
   "execution_count": 2,
   "id": "native-binary",
   "metadata": {
    "scrolled": true
   },
   "outputs": [
    {
     "name": "stdout",
     "output_type": "stream",
     "text": [
      "Model: \"sequential\"\n",
      "_________________________________________________________________\n",
      "Layer (type)                 Output Shape              Param #   \n",
      "=================================================================\n",
      "dense (Dense)                (None, 1)                 2         \n",
      "=================================================================\n",
      "Total params: 2\n",
      "Trainable params: 2\n",
      "Non-trainable params: 0\n",
      "_________________________________________________________________\n",
      "Epoch 1/20\n",
      "4/4 [==============================] - 0s 76ms/step - loss: 24.1527 - mse: 24.1527 - val_loss: 0.3720 - val_mse: 0.3720\n",
      "Epoch 2/20\n",
      "4/4 [==============================] - 0s 25ms/step - loss: 0.4913 - mse: 0.4913 - val_loss: 0.2919 - val_mse: 0.2919\n",
      "Epoch 3/20\n",
      "4/4 [==============================] - 0s 9ms/step - loss: 0.2960 - mse: 0.2960 - val_loss: 0.2659 - val_mse: 0.2659\n",
      "Epoch 4/20\n",
      "4/4 [==============================] - 0s 9ms/step - loss: 0.3219 - mse: 0.3219 - val_loss: 0.1953 - val_mse: 0.1953\n",
      "Epoch 5/20\n",
      "4/4 [==============================] - 0s 9ms/step - loss: 0.3610 - mse: 0.3610 - val_loss: 0.1713 - val_mse: 0.1713\n",
      "Epoch 6/20\n",
      "4/4 [==============================] - 0s 9ms/step - loss: 0.2184 - mse: 0.2184 - val_loss: 0.2146 - val_mse: 0.2146\n",
      "Epoch 7/20\n",
      "4/4 [==============================] - 0s 16ms/step - loss: 0.2216 - mse: 0.2216 - val_loss: 0.1345 - val_mse: 0.1345\n",
      "Epoch 8/20\n",
      "4/4 [==============================] - 0s 7ms/step - loss: 0.1721 - mse: 0.1721 - val_loss: 0.1214 - val_mse: 0.1214\n",
      "Epoch 9/20\n",
      "4/4 [==============================] - 0s 8ms/step - loss: 0.1913 - mse: 0.1913 - val_loss: 0.1189 - val_mse: 0.1189\n",
      "Epoch 10/20\n",
      "4/4 [==============================] - 0s 7ms/step - loss: 0.2149 - mse: 0.2149 - val_loss: 0.1331 - val_mse: 0.1331\n",
      "Epoch 11/20\n",
      "4/4 [==============================] - 0s 8ms/step - loss: 0.2942 - mse: 0.2942 - val_loss: 0.1198 - val_mse: 0.1198\n",
      "Epoch 12/20\n",
      "4/4 [==============================] - 0s 14ms/step - loss: 0.1774 - mse: 0.1774 - val_loss: 0.1154 - val_mse: 0.1154\n",
      "Epoch 13/20\n",
      "4/4 [==============================] - 0s 8ms/step - loss: 0.1797 - mse: 0.1797 - val_loss: 0.1113 - val_mse: 0.1113\n",
      "Epoch 14/20\n",
      "4/4 [==============================] - 0s 8ms/step - loss: 0.1936 - mse: 0.1936 - val_loss: 0.1893 - val_mse: 0.1893\n",
      "Epoch 15/20\n",
      "4/4 [==============================] - 0s 8ms/step - loss: 0.1888 - mse: 0.1888 - val_loss: 0.1082 - val_mse: 0.1082\n",
      "Epoch 16/20\n",
      "4/4 [==============================] - 0s 7ms/step - loss: 0.1986 - mse: 0.1986 - val_loss: 0.1184 - val_mse: 0.1184\n",
      "Epoch 17/20\n",
      "4/4 [==============================] - 0s 7ms/step - loss: 0.1775 - mse: 0.1775 - val_loss: 0.1076 - val_mse: 0.1076\n",
      "Epoch 18/20\n",
      "4/4 [==============================] - 0s 21ms/step - loss: 0.2542 - mse: 0.2542 - val_loss: 0.1081 - val_mse: 0.1081\n",
      "Epoch 19/20\n",
      "4/4 [==============================] - 0s 7ms/step - loss: 0.2078 - mse: 0.2078 - val_loss: 0.1081 - val_mse: 0.1081\n",
      "Epoch 20/20\n",
      "4/4 [==============================] - 0s 9ms/step - loss: 0.2449 - mse: 0.2449 - val_loss: 0.3852 - val_mse: 0.3852\n"
     ]
    }
   ],
   "source": [
    "model = Sequential()\n",
    "model.add(Dense(1, activation='linear', input_shape=(1,)))\n",
    "\n",
    "model.summary()\n",
    "sgd = SGD(lr=0.01, decay=1e-6, momentum=0.9, nesterov=True)\n",
    "\n",
    "\n",
    "model.compile(loss='mse',\n",
    "              optimizer=sgd,\n",
    "              metrics=['mse'])\n",
    "\n",
    "history = model.fit(x_train, y_train,\n",
    "                    batch_size=batch_size,\n",
    "                    epochs=epochs,\n",
    "                    verbose=1,\n",
    "                    validation_data=(x_test, y_test))"
   ]
  },
  {
   "cell_type": "code",
   "execution_count": 3,
   "id": "dramatic-worcester",
   "metadata": {
    "scrolled": true
   },
   "outputs": [
    {
     "name": "stdout",
     "output_type": "stream",
     "text": [
      "Test loss: 0.38523024320602417\n"
     ]
    },
    {
     "data": {
      "image/png": "[encoded data removed]",
      "text/plain": [
       "<Figure size 432x288 with 1 Axes>"
      ]
     },
     "metadata": {
      "needs_background": "light"
     },
     "output_type": "display_data"
    }
   ],
   "source": [
    "y_pred = model.predict(x_test); \n",
    "\n",
    "\n",
    "score = model.evaluate(x_test, y_test, verbose=0)\n",
    "print('Test loss:', score[0])\n",
    "\n",
    "tst = plt.plot(x_test, y_test,'r.',label='test'); \n",
    "\n",
    "pred = plt.plot(x_test, y_pred,'m',label='pred');\n",
    "\n",
    "tr = plt.plot(x_train, y_train,'b.',label='train');\n",
    "\n",
    "plt.legend()\n",
    "plt.show()"
   ]
  },
  {
   "cell_type": "markdown",
   "id": "creative-woman",
   "metadata": {},
   "source": [
    "##### Logistic Regression \n",
    "This part load the MNIST data and trains a simple logistic \n",
    "regression classifier\n"
   ]
  },
  {
   "cell_type": "code",
   "execution_count": 4,
   "id": "common-desert",
   "metadata": {
    "scrolled": true
   },
   "outputs": [
    {
     "name": "stdout",
     "output_type": "stream",
     "text": [
      "60000 train samples\n",
      "10000 test samples\n",
      "Model: \"sequential_1\"\n",
      "_________________________________________________________________\n",
      "Layer (type)                 Output Shape              Param #   \n",
      "=================================================================\n",
      "dense_1 (Dense)              (None, 10)                7850      \n",
      "=================================================================\n",
      "Total params: 7,850\n",
      "Trainable params: 7,850\n",
      "Non-trainable params: 0\n",
      "_________________________________________________________________\n",
      "Epoch 1/10\n",
      "469/469 [==============================] - 1s 3ms/step - loss: 0.6013 - accuracy: 0.8500 - val_loss: 0.3429 - val_accuracy: 0.9084\n",
      "Epoch 2/10\n",
      "469/469 [==============================] - 1s 2ms/step - loss: 0.3307 - accuracy: 0.9083 - val_loss: 0.2991 - val_accuracy: 0.9181\n",
      "Epoch 3/10\n",
      "469/469 [==============================] - 1s 3ms/step - loss: 0.3013 - accuracy: 0.9153 - val_loss: 0.2858 - val_accuracy: 0.9198\n",
      "Epoch 4/10\n",
      "469/469 [==============================] - 1s 3ms/step - loss: 0.2884 - accuracy: 0.9197 - val_loss: 0.2782 - val_accuracy: 0.9222\n",
      "Epoch 5/10\n",
      "469/469 [==============================] - 1s 3ms/step - loss: 0.2802 - accuracy: 0.9222 - val_loss: 0.2765 - val_accuracy: 0.9222\n",
      "Epoch 6/10\n",
      "469/469 [==============================] - 3s 6ms/step - loss: 0.2748 - accuracy: 0.9237 - val_loss: 0.2727 - val_accuracy: 0.9237\n",
      "Epoch 7/10\n",
      "469/469 [==============================] - 2s 5ms/step - loss: 0.2705 - accuracy: 0.9247 - val_loss: 0.2692 - val_accuracy: 0.9246\n",
      "Epoch 8/10\n",
      "469/469 [==============================] - 2s 4ms/step - loss: 0.2677 - accuracy: 0.9259 - val_loss: 0.2707 - val_accuracy: 0.9256\n",
      "Epoch 9/10\n",
      "469/469 [==============================] - 2s 4ms/step - loss: 0.2648 - accuracy: 0.9275 - val_loss: 0.2688 - val_accuracy: 0.9250\n",
      "Epoch 10/10\n",
      "469/469 [==============================] - 2s 3ms/step - loss: 0.2629 - accuracy: 0.9275 - val_loss: 0.2693 - val_accuracy: 0.9260\n",
      "Test loss: 0.2692831754684448\n",
      "Test accuracy: 0.9259999990463257\n"
     ]
    }
   ],
   "source": [
    "'''Keras MNIST MLP Example \n",
    "'''\n",
    "\n",
    "from __future__ import print_function\n",
    "\n",
    "import keras\n",
    "from keras.datasets import mnist\n",
    "from keras.models import Sequential\n",
    "from keras.layers import Dense, Dropout\n",
    "from keras.optimizers import RMSprop\n",
    "\n",
    "batch_size = 128\n",
    "num_classes = 10\n",
    "epochs = 10\n",
    "\n",
    "# the data, shuffled and split between train and test sets\n",
    "(x_train, y_train), (x_test, y_test) = mnist.load_data()\n",
    "\n",
    "x_train = x_train.reshape(60000, 784)\n",
    "x_test = x_test.reshape(10000, 784)\n",
    "x_train = x_train.astype('float32')\n",
    "x_test = x_test.astype('float32')\n",
    "x_train /= 255\n",
    "x_test /= 255\n",
    "print(x_train.shape[0], 'train samples')\n",
    "print(x_test.shape[0], 'test samples')\n",
    "\n",
    "# convert class vectors to binary class matrices\n",
    "y_train = keras.utils.to_categorical(y_train, num_classes)\n",
    "y_test = keras.utils.to_categorical(y_test, num_classes)\n",
    "\n",
    "model = Sequential()\n",
    "model.add(Dense(num_classes, activation='softmax', input_shape=(784,)))\n",
    "\n",
    "model.summary()\n",
    "\n",
    "model.compile(loss='categorical_crossentropy',\n",
    "              optimizer=RMSprop(),\n",
    "              metrics=['accuracy'])\n",
    "\n",
    "history = model.fit(x_train, y_train,\n",
    "                    batch_size=batch_size,\n",
    "                    epochs=epochs,\n",
    "                    verbose=1,\n",
    "                    validation_data=(x_test, y_test))\n",
    "score = model.evaluate(x_test, y_test, verbose=0)\n",
    "print('Test loss:', score[0])\n",
    "print('Test accuracy:', score[1])"
   ]
  },
  {
   "cell_type": "code",
   "execution_count": null,
   "id": "difficult-round",
   "metadata": {},
   "outputs": [],
   "source": []
  },
  {
   "cell_type": "markdown",
   "id": "heard-retirement",
   "metadata": {},
   "source": [
    "#### TODO\n",
    "1. train a 2/3 layer network \n",
    "2. Find the following hyperparameters on a validation data\n",
    "    - number of neurons in a layer\n",
    "    - effect of drop out\n",
    "    \n",
    "3. Plot the learning curves of these models\n",
    "    - both training and validation learning curve\n",
    "    \n",
    "    "
   ]
  },
  {
   "cell_type": "code",
   "execution_count": 33,
   "id": "critical-article",
   "metadata": {
    "scrolled": true
   },
   "outputs": [
    {
     "name": "stdout",
     "output_type": "stream",
     "text": [
      "Model: \"sequential_134\"\n",
      "_________________________________________________________________\n",
      "Layer (type)                 Output Shape              Param #   \n",
      "=================================================================\n",
      "dense_443 (Dense)            (None, 50)                39250     \n",
      "_________________________________________________________________\n",
      "dense_444 (Dense)            (None, 20)                1020      \n",
      "_________________________________________________________________\n",
      "dense_445 (Dense)            (None, 10)                210       \n",
      "_________________________________________________________________\n",
      "dense_446 (Dense)            (None, 10)                110       \n",
      "=================================================================\n",
      "Total params: 40,590\n",
      "Trainable params: 40,590\n",
      "Non-trainable params: 0\n",
      "_________________________________________________________________\n",
      "Epoch 1/10\n",
      "469/469 [==============================] - 3s 7ms/step - loss: 0.6214 - accuracy: 0.8147 - val_loss: 0.2614 - val_accuracy: 0.9271\n",
      "Epoch 2/10\n",
      "469/469 [==============================] - 2s 5ms/step - loss: 0.2298 - accuracy: 0.9348 - val_loss: 0.2013 - val_accuracy: 0.9421\n",
      "Epoch 3/10\n",
      "469/469 [==============================] - 2s 4ms/step - loss: 0.1744 - accuracy: 0.9507 - val_loss: 0.1683 - val_accuracy: 0.9517\n",
      "Epoch 4/10\n",
      "469/469 [==============================] - 2s 4ms/step - loss: 0.1441 - accuracy: 0.9584 - val_loss: 0.1430 - val_accuracy: 0.9586\n",
      "Epoch 5/10\n",
      "469/469 [==============================] - 2s 4ms/step - loss: 0.1240 - accuracy: 0.9628 - val_loss: 0.1291 - val_accuracy: 0.9618\n",
      "Epoch 6/10\n",
      "469/469 [==============================] - 2s 4ms/step - loss: 0.1070 - accuracy: 0.9679 - val_loss: 0.1198 - val_accuracy: 0.9646\n",
      "Epoch 7/10\n",
      "469/469 [==============================] - 2s 3ms/step - loss: 0.0944 - accuracy: 0.9717 - val_loss: 0.1260 - val_accuracy: 0.9650\n",
      "Epoch 8/10\n",
      "469/469 [==============================] - 2s 4ms/step - loss: 0.0835 - accuracy: 0.9750 - val_loss: 0.1207 - val_accuracy: 0.9640\n",
      "Epoch 9/10\n",
      "469/469 [==============================] - 2s 4ms/step - loss: 0.0772 - accuracy: 0.9767 - val_loss: 0.1066 - val_accuracy: 0.9697\n",
      "Epoch 10/10\n",
      "469/469 [==============================] - 2s 4ms/step - loss: 0.0698 - accuracy: 0.9783 - val_loss: 0.1084 - val_accuracy: 0.9695\n",
      "Test loss: 0.10843685269355774\n",
      "Test accuracy: 0.9695000052452087\n"
     ]
    }
   ],
   "source": [
    "model1 = Sequential()\n",
    "\n",
    "model1.add(Dense(50, activation='relu', input_shape=(784,)))\n",
    "model1.add(Dense(30, activation='relu'))\n",
    "model1.add(Dense(10, activation='relu'))\n",
    "model1.add(Dense(1, activation='linear'))\n",
    "\n",
    "model1.summary()\n",
    "\n",
    "model1.compile(loss='categorical_crossentropy',\n",
    "              optimizer='adam',\n",
    "              metrics=['accuracy'])\n",
    "\n",
    "history1 = model1.fit(x_train, y_train,\n",
    "                    batch_size=batch_size,\n",
    "                    epochs=epochs,\n",
    "                    verbose=1,\n",
    "                    validation_data=(x_test, y_test))\n",
    "score1 = model1.evaluate(x_test, y_test, verbose=0)\n",
    "print('Test loss:', score1[0])\n",
    "print('Test accuracy:', score1[1])"
   ]
  },
  {
   "cell_type": "code",
   "execution_count": 19,
   "id": "exposed-circular",
   "metadata": {},
   "outputs": [
    {
     "name": "stdout",
     "output_type": "stream",
     "text": [
      "dict_keys(['loss', 'accuracy', 'val_loss', 'val_accuracy'])\n"
     ]
    }
   ],
   "source": [
    "print(history1.history.keys())"
   ]
  },
  {
   "cell_type": "code",
   "execution_count": 34,
   "id": "forty-consideration",
   "metadata": {
    "scrolled": false
   },
   "outputs": [
    {
     "data": {
      "image/png": "[encoded data removed]",
      "text/plain": [
       "<Figure size 432x288 with 1 Axes>"
      ]
     },
     "metadata": {
      "needs_background": "light"
     },
     "output_type": "display_data"
    }
   ],
   "source": [
    "plt.plot(history1.history['accuracy'])\n",
    "plt.plot(history1.history['val_accuracy'])\n",
    "plt.ylabel('accuracy')\n",
    "plt.xlabel('epoch')\n",
    "plt.legend(['train','test'], loc = 'lower right')\n",
    "plt.show()"
   ]
  },
  {
   "cell_type": "code",
   "execution_count": 35,
   "id": "upper-exception",
   "metadata": {},
   "outputs": [
    {
     "data": {
      "image/png": "[encoded data removed]",
      "text/plain": [
       "<Figure size 432x288 with 1 Axes>"
      ]
     },
     "metadata": {
      "needs_background": "light"
     },
     "output_type": "display_data"
    }
   ],
   "source": [
    "plt.plot(history1.history['loss'])\n",
    "plt.plot(history1.history['val_loss'])\n",
    "plt.ylabel('model_loss')\n",
    "plt.xlabel('epoch')\n",
    "plt.legend(['train','test'], loc = 'upper right')\n",
    "plt.show()\n"
   ]
  },
  {
   "cell_type": "code",
   "execution_count": 31,
   "id": "396e3075",
   "metadata": {
    "scrolled": true
   },
   "outputs": [
    {
     "name": "stdout",
     "output_type": "stream",
     "text": [
      "Model: \"sequential_133\"\n",
      "_________________________________________________________________\n",
      "Layer (type)                 Output Shape              Param #   \n",
      "=================================================================\n",
      "dense_439 (Dense)            (None, 50)                39250     \n",
      "_________________________________________________________________\n",
      "dropout_55 (Dropout)         (None, 50)                0         \n",
      "_________________________________________________________________\n",
      "dense_440 (Dense)            (None, 20)                1020      \n",
      "_________________________________________________________________\n",
      "dropout_56 (Dropout)         (None, 20)                0         \n",
      "_________________________________________________________________\n",
      "dense_441 (Dense)            (None, 10)                210       \n",
      "_________________________________________________________________\n",
      "dropout_57 (Dropout)         (None, 10)                0         \n",
      "_________________________________________________________________\n",
      "dense_442 (Dense)            (None, 10)                110       \n",
      "=================================================================\n",
      "Total params: 40,590\n",
      "Trainable params: 40,590\n",
      "Non-trainable params: 0\n",
      "_________________________________________________________________\n",
      "Epoch 1/10\n",
      "469/469 [==============================] - 2s 4ms/step - loss: 1.3376 - accuracy: 0.5005 - val_loss: 0.5967 - val_accuracy: 0.7965\n",
      "Epoch 2/10\n",
      "469/469 [==============================] - 2s 4ms/step - loss: 0.8682 - accuracy: 0.6830 - val_loss: 0.4271 - val_accuracy: 0.8702\n",
      "Epoch 3/10\n",
      "469/469 [==============================] - 2s 4ms/step - loss: 0.7215 - accuracy: 0.7585 - val_loss: 0.3262 - val_accuracy: 0.9202\n",
      "Epoch 4/10\n",
      "469/469 [==============================] - 2s 4ms/step - loss: 0.6448 - accuracy: 0.7899 - val_loss: 0.2757 - val_accuracy: 0.9331\n",
      "Epoch 5/10\n",
      "469/469 [==============================] - 2s 4ms/step - loss: 0.6026 - accuracy: 0.8087 - val_loss: 0.2579 - val_accuracy: 0.9398\n",
      "Epoch 6/10\n",
      "469/469 [==============================] - 2s 4ms/step - loss: 0.5726 - accuracy: 0.8183 - val_loss: 0.2397 - val_accuracy: 0.9419\n",
      "Epoch 7/10\n",
      "469/469 [==============================] - 2s 4ms/step - loss: 0.5531 - accuracy: 0.8271 - val_loss: 0.2312 - val_accuracy: 0.9446\n",
      "Epoch 8/10\n",
      "469/469 [==============================] - 2s 4ms/step - loss: 0.5360 - accuracy: 0.8323 - val_loss: 0.2284 - val_accuracy: 0.9483\n",
      "Epoch 9/10\n",
      "469/469 [==============================] - 2s 4ms/step - loss: 0.5242 - accuracy: 0.8358 - val_loss: 0.2223 - val_accuracy: 0.9490\n",
      "Epoch 10/10\n",
      "469/469 [==============================] - 2s 4ms/step - loss: 0.5137 - accuracy: 0.8400 - val_loss: 0.2279 - val_accuracy: 0.9472\n",
      "Test loss: 0.22794324159622192\n",
      "Test accuracy: 0.9472000002861023\n"
     ]
    }
   ],
   "source": [
    "model11 = Sequential()\n",
    "\n",
    "model11.add(Dense(50, activation='relu', input_shape=(784,)))\n",
    "model11.add(Dropout(0.25))\n",
    "model11.add(Dense(20, activation='relu'))\n",
    "model11.add(Dropout(0.25))\n",
    "model11.add(Dense(num_classes, activation='relu'))\n",
    "model11.add(Dropout(0.25))\n",
    "model11.add(Dense(num_classes, activation='softmax'))\n",
    "\n",
    "model11.summary()\n",
    "\n",
    "model11.compile(loss='categorical_crossentropy',\n",
    "              optimizer=RMSprop(),\n",
    "              metrics=['accuracy'])\n",
    "\n",
    "history11 = model11.fit(x_train, y_train,\n",
    "                    batch_size=batch_size,\n",
    "                    epochs=epochs,\n",
    "                    verbose=1,\n",
    "                    validation_data=(x_test, y_test))\n",
    "score11 = model11.evaluate(x_test, y_test, verbose=0)\n",
    "print('Test loss:', score11[0])\n",
    "print('Test accuracy:', score11[1])"
   ]
  },
  {
   "cell_type": "code",
   "execution_count": 32,
   "id": "f5b0fa80",
   "metadata": {},
   "outputs": [
    {
     "data": {
      "image/png": "[encoded data removed]",
      "text/plain": [
       "<Figure size 432x288 with 1 Axes>"
      ]
     },
     "metadata": {
      "needs_background": "light"
     },
     "output_type": "display_data"
    }
   ],
   "source": [
    "plt.plot(history11.history['accuracy'])\n",
    "plt.plot(history11.history['val_accuracy'])\n",
    "plt.ylabel('accuracy')\n",
    "plt.xlabel('epoch')\n",
    "plt.legend(['train','test'], loc = 'lower right')\n",
    "plt.show()\n"
   ]
  },
  {
   "cell_type": "code",
   "execution_count": null,
   "id": "df0a6d02",
   "metadata": {},
   "outputs": [],
   "source": []
  }
 ],
 "metadata": {
  "kernelspec": {
   "display_name": "Python 3",
   "language": "python",
   "name": "python3"
  },
  "language_info": {
   "codemirror_mode": {
    "name": "ipython",
    "version": 3
   },
   "file_extension": ".py",
   "mimetype": "text/x-python",
   "name": "python",
   "nbconvert_exporter": "python",
   "pygments_lexer": "ipython3",
   "version": "3.8.8"
  }
 },
 "nbformat": 4,
 "nbformat_minor": 5
}
