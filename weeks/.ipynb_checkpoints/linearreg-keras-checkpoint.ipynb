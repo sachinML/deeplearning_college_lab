{
 "cells": [
  {
   "cell_type": "markdown",
   "id": "preliminary-award",
   "metadata": {},
   "source": [
    "# Keras Examples\n",
    "Linear  Regression\n",
    "Train  a one layer neural network for linear regression"
   ]
  },
  {
   "cell_type": "code",
   "execution_count": 1,
   "id": "statutory-davis",
   "metadata": {},
   "outputs": [
    {
     "name": "stderr",
     "output_type": "stream",
     "text": [
      "Using TensorFlow backend.\n"
     ]
    }
   ],
   "source": [
    "'''\n",
    "Linear Regression\n",
    "'''\n",
    "# Import the necessry libraries \n",
    "\n",
    "from __future__ import print_function\n",
    "import numpy as np\n",
    "import matplotlib.pyplot as plt\n",
    "import keras\n",
    "from keras.models import Sequential\n",
    "from keras.layers import Dense, Dropout\n",
    "from keras.optimizers import SGD"
   ]
  },
  {
   "cell_type": "code",
   "execution_count": 2,
   "id": "satisfied-crest",
   "metadata": {},
   "outputs": [
    {
     "name": "stdout",
     "output_type": "stream",
     "text": [
      "40 train samples\n",
      "20 test samples\n"
     ]
    }
   ],
   "source": [
    "# Simulate some data as input dataset\n",
    "\n",
    "def SimulData():\n",
    "        # Simulate some data for training \n",
    "        x_train = np.arange(0,10, 0.25 )\n",
    "        x_train = x_train + 1.0/3.0 * np.random.randn(x_train.size);\n",
    "        y_train  = np.cos( x_train  * np.pi /7) +  0.1 * np.random.randn(x_train.size);\n",
    "\n",
    "        x_test = np.arange(0,10, 0.5 )\n",
    "        x_test = x_test + 1.0/3.0 * np.random.randn(x_test.size);\n",
    "        y_test  = np.cos( x_test  * np.pi /7)+  0.1 * np.random.randn(x_test.size)\n",
    "\n",
    "        return (x_train,y_train) , (x_test, y_test)\n",
    "    \n",
    "# the data, shuffled and split between train and test sets\n",
    "(x_train, y_train), (x_test, y_test) = SimulData();\n",
    "\n",
    "print(x_train.shape[0], 'train samples')\n",
    "print(x_test.shape[0], 'test samples')"
   ]
  },
  {
   "cell_type": "code",
   "execution_count": 3,
   "id": "resistant-recipient",
   "metadata": {
    "scrolled": true
   },
   "outputs": [
    {
     "name": "stdout",
     "output_type": "stream",
     "text": [
      "WARNING:tensorflow:From C:\\Users\\Sachin Jha\\.conda\\envs\\sachin\\lib\\site-packages\\tensorflow_core\\python\\ops\\resource_variable_ops.py:1630: calling BaseResourceVariable.__init__ (from tensorflow.python.ops.resource_variable_ops) with constraint is deprecated and will be removed in a future version.\n",
      "Instructions for updating:\n",
      "If using Keras pass *_constraint arguments to layers.\n",
      "Model: \"sequential_1\"\n",
      "_________________________________________________________________\n",
      "Layer (type)                 Output Shape              Param #   \n",
      "=================================================================\n",
      "dense_1 (Dense)              (None, 1)                 2         \n",
      "=================================================================\n",
      "Total params: 2\n",
      "Trainable params: 2\n",
      "Non-trainable params: 0\n",
      "_________________________________________________________________\n"
     ]
    }
   ],
   "source": [
    "# Defining the model \n",
    "\n",
    "# Define that it is a FF model\n",
    "model = Sequential()   \n",
    "\n",
    "# add a dense layer of weights\n",
    "model.add(Dense(1, activation='linear', input_shape=(1,)))\n",
    "\n",
    "\n",
    "# print the model \n",
    "model.summary()\n",
    "\n",
    "# Define the optimizer\n",
    "s1 = SGD(lr=0.01)\n",
    "\n",
    "# Set up the model algorithm, loss, optimizer \n",
    "model.compile(loss='mse',\n",
    "              optimizer=s1,\n",
    "              metrics=['mse'])"
   ]
  },
  {
   "cell_type": "code",
   "execution_count": 4,
   "id": "mexican-teaching",
   "metadata": {
    "scrolled": true
   },
   "outputs": [
    {
     "name": "stdout",
     "output_type": "stream",
     "text": [
      "WARNING:tensorflow:From C:\\Users\\Sachin Jha\\.conda\\envs\\sachin\\lib\\site-packages\\keras\\backend\\tensorflow_backend.py:422: The name tf.global_variables is deprecated. Please use tf.compat.v1.global_variables instead.\n",
      "\n",
      "Train on 40 samples, validate on 20 samples\n",
      "Epoch 1/20\n",
      "40/40 [==============================] - 0s 3ms/step - loss: 16.9059 - mse: 16.9059 - val_loss: 0.4020 - val_mse: 0.4020\n",
      "Epoch 2/20\n",
      "40/40 [==============================] - 0s 400us/step - loss: 0.4523 - mse: 0.4523 - val_loss: 0.3875 - val_mse: 0.3875\n",
      "Epoch 3/20\n",
      "40/40 [==============================] - 0s 600us/step - loss: 0.4328 - mse: 0.4328 - val_loss: 0.3882 - val_mse: 0.3882\n",
      "Epoch 4/20\n",
      "40/40 [==============================] - 0s 600us/step - loss: 0.4336 - mse: 0.4336 - val_loss: 0.3692 - val_mse: 0.3692\n",
      "Epoch 5/20\n",
      "40/40 [==============================] - 0s 600us/step - loss: 0.4054 - mse: 0.4054 - val_loss: 0.3562 - val_mse: 0.3562\n",
      "Epoch 6/20\n",
      "40/40 [==============================] - 0s 600us/step - loss: 0.3965 - mse: 0.3965 - val_loss: 0.3462 - val_mse: 0.3462\n",
      "Epoch 7/20\n",
      "40/40 [==============================] - 0s 400us/step - loss: 0.3993 - mse: 0.3993 - val_loss: 0.3353 - val_mse: 0.3353\n",
      "Epoch 8/20\n",
      "40/40 [==============================] - 0s 200us/step - loss: 0.3746 - mse: 0.3746 - val_loss: 0.3242 - val_mse: 0.3242\n",
      "Epoch 9/20\n",
      "40/40 [==============================] - 0s 400us/step - loss: 0.3751 - mse: 0.3751 - val_loss: 0.3187 - val_mse: 0.3187\n",
      "Epoch 10/20\n",
      "40/40 [==============================] - 0s 200us/step - loss: 0.3549 - mse: 0.3549 - val_loss: 0.3073 - val_mse: 0.3073\n",
      "Epoch 11/20\n",
      "40/40 [==============================] - 0s 200us/step - loss: 0.3492 - mse: 0.3492 - val_loss: 0.3185 - val_mse: 0.3185\n",
      "Epoch 12/20\n",
      "40/40 [==============================] - 0s 800us/step - loss: 0.3457 - mse: 0.3457 - val_loss: 0.2899 - val_mse: 0.2899\n",
      "Epoch 13/20\n",
      "40/40 [==============================] - 0s 400us/step - loss: 0.3312 - mse: 0.3312 - val_loss: 0.2829 - val_mse: 0.2829\n",
      "Epoch 14/20\n",
      "40/40 [==============================] - 0s 400us/step - loss: 0.3226 - mse: 0.3226 - val_loss: 0.2767 - val_mse: 0.2767\n",
      "Epoch 15/20\n",
      "40/40 [==============================] - 0s 400us/step - loss: 0.3098 - mse: 0.3098 - val_loss: 0.2696 - val_mse: 0.2696\n",
      "Epoch 16/20\n",
      "40/40 [==============================] - 0s 400us/step - loss: 0.3024 - mse: 0.3024 - val_loss: 0.2615 - val_mse: 0.2615\n",
      "Epoch 17/20\n",
      "40/40 [==============================] - 0s 600us/step - loss: 0.3199 - mse: 0.3199 - val_loss: 0.2549 - val_mse: 0.2549\n",
      "Epoch 18/20\n",
      "40/40 [==============================] - 0s 600us/step - loss: 0.2885 - mse: 0.2885 - val_loss: 0.2492 - val_mse: 0.2492\n",
      "Epoch 19/20\n",
      "40/40 [==============================] - 0s 600us/step - loss: 0.2880 - mse: 0.2880 - val_loss: 0.2430 - val_mse: 0.2430\n",
      "Epoch 20/20\n",
      "40/40 [==============================] - 0s 400us/step - loss: 0.2918 - mse: 0.2918 - val_loss: 0.2396 - val_mse: 0.2396\n",
      "Test loss: 0.2395656853914261\n"
     ]
    },
    {
     "data": {
      "image/png": "[encoded data removed]",
      "text/plain": [
       "<Figure size 432x288 with 1 Axes>"
      ]
     },
     "metadata": {
      "needs_background": "light"
     },
     "output_type": "display_data"
    }
   ],
   "source": [
    "# Train the model\n",
    "batch_size = 10\n",
    "epochs = 20\n",
    "\n",
    "history = model.fit(x_train, y_train,\n",
    "                    batch_size=batch_size,\n",
    "                    epochs=epochs,\n",
    "                    verbose=1,\n",
    "                    validation_data=(x_test, y_test))\n",
    "\n",
    "# perform prediction using the test data\n",
    "y_pred = model.predict(x_test);\n",
    "\n",
    "# Find the loss\n",
    "score = model.evaluate(x_test, y_test, verbose=0)\n",
    "print('Test loss:', score[0])\n",
    "\n",
    "# Plot the results\n",
    "tst = plt.plot(x_test,y_test,'r.',label='test');\n",
    "pred = plt.plot(x_test,y_pred,'m',label='pred');\n",
    "tr = plt.plot(x_train,y_train,'b.',label='train');\n",
    "\n",
    "plt.legend()\n",
    "plt.show()\n"
   ]
  },
  {
   "cell_type": "code",
   "execution_count": 5,
   "id": "documentary-stuart",
   "metadata": {},
   "outputs": [
    {
     "data": {
      "text/plain": [
       "'\\nTODO - 1. Add one more layer of 50 hidden neurons \\n          and compare the differences in the output\\n       2. Compare the effect of L1 and L2 regularization \\n          on the neural network in part 1\\n       3. Understand the effect of dropout on the \\n          neural network defined in part 1\\n'"
      ]
     },
     "execution_count": 5,
     "metadata": {},
     "output_type": "execute_result"
    }
   ],
   "source": [
    "'''\n",
    "TODO - 1. Add one more layer of 50 hidden neurons \n",
    "          and compare the differences in the output\n",
    "       2. Compare the effect of L1 and L2 regularization \n",
    "          on the neural network in part 1\n",
    "       3. Understand the effect of dropout on the \n",
    "          neural network defined in part 1\n",
    "''' "
   ]
  },
  {
   "cell_type": "code",
   "execution_count": 5,
   "id": "assisted-eleven",
   "metadata": {},
   "outputs": [
    {
     "name": "stdout",
     "output_type": "stream",
     "text": [
      "Model: \"sequential_2\"\n",
      "_________________________________________________________________\n",
      "Layer (type)                 Output Shape              Param #   \n",
      "=================================================================\n",
      "dense_2 (Dense)              (None, 50)                100       \n",
      "_________________________________________________________________\n",
      "dense_3 (Dense)              (None, 1)                 51        \n",
      "=================================================================\n",
      "Total params: 151\n",
      "Trainable params: 151\n",
      "Non-trainable params: 0\n",
      "_________________________________________________________________\n"
     ]
    }
   ],
   "source": [
    "# Defining the model \n",
    "\n",
    "# Define that it is a FF model\n",
    "model_1 = Sequential()   \n",
    "\n",
    "# add a dense layer of weights\n",
    "model_1.add(Dense(50, activation='linear', input_shape=(1,)))\n",
    "model_1.add(Dense(1))\n",
    "\n",
    "\n",
    "# print the model \n",
    "model_1.summary()\n",
    "\n",
    "# Define the optimizer\n",
    "s2 = SGD(lr=0.01)\n",
    "\n",
    "# Set up the model algorithm, loss, optimizer \n",
    "model_1.compile(loss='mse',\n",
    "              optimizer=s2,\n",
    "              metrics=['mse'])"
   ]
  },
  {
   "cell_type": "code",
   "execution_count": 6,
   "id": "advanced-bibliography",
   "metadata": {
    "scrolled": true
   },
   "outputs": [
    {
     "name": "stdout",
     "output_type": "stream",
     "text": [
      "Train on 40 samples, validate on 20 samples\n",
      "Epoch 1/40\n",
      "40/40 [==============================] - 0s 4ms/step - loss: 1.9988 - mse: 1.9988 - val_loss: 2.9488 - val_mse: 2.9488\n",
      "Epoch 2/40\n",
      "40/40 [==============================] - 0s 386us/step - loss: 7.6354 - mse: 7.6354 - val_loss: 6.3625 - val_mse: 6.3625\n",
      "Epoch 3/40\n",
      "40/40 [==============================] - 0s 600us/step - loss: 2.5055 - mse: 2.5055 - val_loss: 0.2709 - val_mse: 0.2709\n",
      "Epoch 4/40\n",
      "40/40 [==============================] - 0s 600us/step - loss: 0.3125 - mse: 0.3125 - val_loss: 0.2853 - val_mse: 0.2853\n",
      "Epoch 5/40\n",
      "40/40 [==============================] - 0s 600us/step - loss: 0.3726 - mse: 0.3726 - val_loss: 0.2604 - val_mse: 0.2604\n",
      "Epoch 6/40\n",
      "40/40 [==============================] - 0s 600us/step - loss: 0.2915 - mse: 0.2915 - val_loss: 0.2324 - val_mse: 0.2324\n",
      "Epoch 7/40\n",
      "40/40 [==============================] - 0s 600us/step - loss: 0.2668 - mse: 0.2668 - val_loss: 0.2215 - val_mse: 0.2215\n",
      "Epoch 8/40\n",
      "40/40 [==============================] - 0s 600us/step - loss: 0.2516 - mse: 0.2516 - val_loss: 0.2114 - val_mse: 0.2114\n",
      "Epoch 9/40\n",
      "40/40 [==============================] - 0s 600us/step - loss: 0.2470 - mse: 0.2470 - val_loss: 0.2140 - val_mse: 0.2140\n",
      "Epoch 10/40\n",
      "40/40 [==============================] - 0s 600us/step - loss: 0.2335 - mse: 0.2335 - val_loss: 0.1952 - val_mse: 0.1952\n",
      "Epoch 11/40\n",
      "40/40 [==============================] - 0s 400us/step - loss: 0.2303 - mse: 0.2303 - val_loss: 0.1904 - val_mse: 0.1904\n",
      "Epoch 12/40\n",
      "40/40 [==============================] - ETA: 0s - loss: 0.1644 - mse: 0.164 - 0s 600us/step - loss: 0.2590 - mse: 0.2590 - val_loss: 0.1883 - val_mse: 0.1883\n",
      "Epoch 13/40\n",
      "40/40 [==============================] - 0s 600us/step - loss: 0.2652 - mse: 0.2652 - val_loss: 0.1842 - val_mse: 0.1842\n",
      "Epoch 14/40\n",
      "40/40 [==============================] - 0s 599us/step - loss: 0.2142 - mse: 0.2142 - val_loss: 0.1784 - val_mse: 0.1784\n",
      "Epoch 15/40\n",
      "40/40 [==============================] - 0s 400us/step - loss: 0.2030 - mse: 0.2030 - val_loss: 0.1653 - val_mse: 0.1653\n",
      "Epoch 16/40\n",
      "40/40 [==============================] - 0s 400us/step - loss: 0.2892 - mse: 0.2892 - val_loss: 0.2131 - val_mse: 0.2131\n",
      "Epoch 17/40\n",
      "40/40 [==============================] - 0s 400us/step - loss: 0.2025 - mse: 0.2025 - val_loss: 0.1562 - val_mse: 0.1562\n",
      "Epoch 18/40\n",
      "40/40 [==============================] - 0s 600us/step - loss: 0.1929 - mse: 0.1929 - val_loss: 0.1756 - val_mse: 0.1756\n",
      "Epoch 19/40\n",
      "40/40 [==============================] - 0s 600us/step - loss: 0.1869 - mse: 0.1869 - val_loss: 0.1567 - val_mse: 0.1567\n",
      "Epoch 20/40\n",
      "40/40 [==============================] - 0s 400us/step - loss: 0.1744 - mse: 0.1744 - val_loss: 0.1952 - val_mse: 0.1952\n",
      "Epoch 21/40\n",
      "40/40 [==============================] - 0s 400us/step - loss: 0.1947 - mse: 0.1947 - val_loss: 0.1813 - val_mse: 0.1813\n",
      "Epoch 22/40\n",
      "40/40 [==============================] - 0s 600us/step - loss: 0.2161 - mse: 0.2161 - val_loss: 0.2139 - val_mse: 0.2139\n",
      "Epoch 23/40\n",
      "40/40 [==============================] - 0s 400us/step - loss: 0.2346 - mse: 0.2346 - val_loss: 0.1534 - val_mse: 0.1534\n",
      "Epoch 24/40\n",
      "40/40 [==============================] - 0s 400us/step - loss: 0.1655 - mse: 0.1655 - val_loss: 0.1418 - val_mse: 0.1418\n",
      "Epoch 25/40\n",
      "40/40 [==============================] - 0s 400us/step - loss: 0.2553 - mse: 0.2553 - val_loss: 0.2404 - val_mse: 0.2404\n",
      "Epoch 26/40\n",
      "40/40 [==============================] - 0s 600us/step - loss: 0.2033 - mse: 0.2033 - val_loss: 0.1341 - val_mse: 0.1341\n",
      "Epoch 27/40\n",
      "40/40 [==============================] - 0s 400us/step - loss: 0.1767 - mse: 0.1767 - val_loss: 0.1315 - val_mse: 0.1315\n",
      "Epoch 28/40\n",
      "40/40 [==============================] - 0s 400us/step - loss: 0.1536 - mse: 0.1536 - val_loss: 0.1439 - val_mse: 0.1439\n",
      "Epoch 29/40\n",
      "40/40 [==============================] - 0s 399us/step - loss: 0.1800 - mse: 0.1800 - val_loss: 0.1860 - val_mse: 0.1860\n",
      "Epoch 30/40\n",
      "40/40 [==============================] - 0s 400us/step - loss: 0.1594 - mse: 0.1594 - val_loss: 0.1404 - val_mse: 0.1404\n",
      "Epoch 31/40\n",
      "40/40 [==============================] - 0s 600us/step - loss: 0.1608 - mse: 0.1608 - val_loss: 0.1274 - val_mse: 0.1274\n",
      "Epoch 32/40\n",
      "40/40 [==============================] - 0s 600us/step - loss: 0.2361 - mse: 0.2361 - val_loss: 0.1339 - val_mse: 0.1339\n",
      "Epoch 33/40\n",
      "40/40 [==============================] - 0s 400us/step - loss: 0.1427 - mse: 0.1427 - val_loss: 0.1257 - val_mse: 0.1257\n",
      "Epoch 34/40\n",
      "40/40 [==============================] - 0s 400us/step - loss: 0.1554 - mse: 0.1554 - val_loss: 0.2182 - val_mse: 0.2182\n",
      "Epoch 35/40\n",
      "40/40 [==============================] - 0s 600us/step - loss: 0.2705 - mse: 0.2705 - val_loss: 0.1481 - val_mse: 0.1481\n",
      "Epoch 36/40\n",
      "40/40 [==============================] - 0s 600us/step - loss: 0.1291 - mse: 0.1291 - val_loss: 0.1632 - val_mse: 0.1632\n",
      "Epoch 37/40\n",
      "40/40 [==============================] - 0s 400us/step - loss: 0.1613 - mse: 0.1613 - val_loss: 0.1407 - val_mse: 0.1407\n",
      "Epoch 38/40\n",
      "40/40 [==============================] - 0s 600us/step - loss: 0.1455 - mse: 0.1455 - val_loss: 0.1549 - val_mse: 0.1549\n",
      "Epoch 39/40\n",
      "40/40 [==============================] - 0s 600us/step - loss: 0.1477 - mse: 0.1477 - val_loss: 0.1261 - val_mse: 0.1261\n",
      "Epoch 40/40\n",
      "40/40 [==============================] - 0s 400us/step - loss: 0.1599 - mse: 0.1599 - val_loss: 0.1786 - val_mse: 0.1786\n",
      "Test loss: 0.17856137454509735\n"
     ]
    },
    {
     "data": {
      "image/png": "[encoded data removed]",
      "text/plain": [
       "<Figure size 432x288 with 1 Axes>"
      ]
     },
     "metadata": {
      "needs_background": "light"
     },
     "output_type": "display_data"
    }
   ],
   "source": [
    "# Train the model\n",
    "batch_size = 10\n",
    "epochs = 40\n",
    "\n",
    "history1 = model_1.fit(x_train, y_train,\n",
    "                    batch_size=batch_size,\n",
    "                    epochs=epochs,\n",
    "                    verbose=1,\n",
    "                    validation_data=(x_test, y_test))\n",
    "\n",
    "# perform prediction using the test data\n",
    "y_pred1 = model_1.predict(x_test);\n",
    "\n",
    "# Find the loss\n",
    "score1 = model_1.evaluate(x_test, y_test, verbose=0)\n",
    "print('Test loss:', score1[0])\n",
    "\n",
    "# Plot the results\n",
    "tst1 = plt.plot(x_test,y_test,'r.',label='test');\n",
    "pred1 = plt.plot(x_test,y_pred,'m',label='pred');\n",
    "tr1 = plt.plot(x_train,y_train,'b.',label='train');\n",
    "\n",
    "plt.legend()\n",
    "plt.show()\n"
   ]
  },
  {
   "cell_type": "markdown",
   "id": "starting-voluntary",
   "metadata": {},
   "source": [
    "# 2"
   ]
  },
  {
   "cell_type": "code",
   "execution_count": 9,
   "id": "herbal-gnome",
   "metadata": {},
   "outputs": [
    {
     "name": "stdout",
     "output_type": "stream",
     "text": [
      "Model: \"sequential_4\"\n",
      "_________________________________________________________________\n",
      "Layer (type)                 Output Shape              Param #   \n",
      "=================================================================\n",
      "dense_6 (Dense)              (None, 50)                100       \n",
      "_________________________________________________________________\n",
      "dense_7 (Dense)              (None, 1)                 51        \n",
      "=================================================================\n",
      "Total params: 151\n",
      "Trainable params: 151\n",
      "Non-trainable params: 0\n",
      "_________________________________________________________________\n"
     ]
    }
   ],
   "source": [
    "from keras import regularizers\n",
    "# Defining the model \n",
    "\n",
    "# Define that it is a FF model\n",
    "model_2 = Sequential()   \n",
    "\n",
    "# add a dense layer of weights\n",
    "model_2.add(Dense(50, activation='linear', input_shape=(1,),kernel_regularizer=regularizers.l2(0.01)))\n",
    "model_2.add(Dense(1,kernel_regularizer=regularizers.l2(0.01)))\n",
    "\n",
    "\n",
    "# print the model \n",
    "model_2.summary()\n",
    "\n",
    "# Define the optimizer\n",
    "s3 = SGD(lr=0.01)\n",
    "\n",
    "# Set up the model algorithm, loss, optimizer \n",
    "model_2.compile(loss='mse',\n",
    "              optimizer=s3,\n",
    "              metrics=['mse'])"
   ]
  },
  {
   "cell_type": "code",
   "execution_count": 12,
   "id": "impressive-vancouver",
   "metadata": {
    "scrolled": true
   },
   "outputs": [
    {
     "name": "stdout",
     "output_type": "stream",
     "text": [
      "Train on 40 samples, validate on 20 samples\n",
      "Epoch 1/40\n",
      "40/40 [==============================] - 0s 553us/step - loss: 0.1601 - mse: 0.1373 - val_loss: 0.1455 - val_mse: 0.1227\n",
      "Epoch 2/40\n",
      "40/40 [==============================] - 0s 400us/step - loss: 0.1597 - mse: 0.1369 - val_loss: 0.1748 - val_mse: 0.1522\n",
      "Epoch 3/40\n",
      "40/40 [==============================] - 0s 400us/step - loss: 0.1817 - mse: 0.1590 - val_loss: 0.2203 - val_mse: 0.1975\n",
      "Epoch 4/40\n",
      "40/40 [==============================] - 0s 400us/step - loss: 0.1753 - mse: 0.1526 - val_loss: 0.1724 - val_mse: 0.1498\n",
      "Epoch 5/40\n",
      "40/40 [==============================] - 0s 600us/step - loss: 0.2329 - mse: 0.2103 - val_loss: 0.1629 - val_mse: 0.1405\n",
      "Epoch 6/40\n",
      "40/40 [==============================] - 0s 600us/step - loss: 0.1432 - mse: 0.1208 - val_loss: 0.2095 - val_mse: 0.1869\n",
      "Epoch 7/40\n",
      "40/40 [==============================] - 0s 400us/step - loss: 0.2165 - mse: 0.1940 - val_loss: 0.1898 - val_mse: 0.1675\n",
      "Epoch 8/40\n",
      "40/40 [==============================] - 0s 600us/step - loss: 0.1766 - mse: 0.1542 - val_loss: 0.1881 - val_mse: 0.1659\n",
      "Epoch 9/40\n",
      "40/40 [==============================] - 0s 400us/step - loss: 0.1920 - mse: 0.1697 - val_loss: 0.1529 - val_mse: 0.1307\n",
      "Epoch 10/40\n",
      "40/40 [==============================] - 0s 400us/step - loss: 0.1569 - mse: 0.1347 - val_loss: 0.1540 - val_mse: 0.1317\n",
      "Epoch 11/40\n",
      "40/40 [==============================] - 0s 400us/step - loss: 0.1754 - mse: 0.1531 - val_loss: 0.1912 - val_mse: 0.1691\n",
      "Epoch 12/40\n",
      "40/40 [==============================] - 0s 400us/step - loss: 0.2028 - mse: 0.1807 - val_loss: 0.1617 - val_mse: 0.1397\n",
      "Epoch 13/40\n",
      "40/40 [==============================] - 0s 600us/step - loss: 0.1981 - mse: 0.1761 - val_loss: 0.3023 - val_mse: 0.2805\n",
      "Epoch 14/40\n",
      "40/40 [==============================] - 0s 400us/step - loss: 0.2075 - mse: 0.1856 - val_loss: 0.2645 - val_mse: 0.2424\n",
      "Epoch 15/40\n",
      "40/40 [==============================] - ETA: 0s - loss: 0.6083 - mse: 0.586 - 0s 200us/step - loss: 0.4181 - mse: 0.3964 - val_loss: 0.1850 - val_mse: 0.1634\n",
      "Epoch 16/40\n",
      "40/40 [==============================] - 0s 400us/step - loss: 0.1549 - mse: 0.1334 - val_loss: 0.1610 - val_mse: 0.1396\n",
      "Epoch 17/40\n",
      "40/40 [==============================] - 0s 400us/step - loss: 0.2241 - mse: 0.2026 - val_loss: 0.1508 - val_mse: 0.1294\n",
      "Epoch 18/40\n",
      "40/40 [==============================] - 0s 400us/step - loss: 0.1694 - mse: 0.1480 - val_loss: 0.1427 - val_mse: 0.1214\n",
      "Epoch 19/40\n",
      "40/40 [==============================] - ETA: 0s - loss: 0.1196 - mse: 0.098 - 0s 600us/step - loss: 0.1820 - mse: 0.1608 - val_loss: 0.1732 - val_mse: 0.1519\n",
      "Epoch 20/40\n",
      "40/40 [==============================] - 0s 400us/step - loss: 0.1696 - mse: 0.1483 - val_loss: 0.1973 - val_mse: 0.1760\n",
      "Epoch 21/40\n",
      "40/40 [==============================] - 0s 400us/step - loss: 0.1605 - mse: 0.1393 - val_loss: 0.1442 - val_mse: 0.1231\n",
      "Epoch 22/40\n",
      "40/40 [==============================] - 0s 400us/step - loss: 0.1445 - mse: 0.1234 - val_loss: 0.1583 - val_mse: 0.1371\n",
      "Epoch 23/40\n",
      "40/40 [==============================] - 0s 600us/step - loss: 0.2697 - mse: 0.2486 - val_loss: 0.1425 - val_mse: 0.1216\n",
      "Epoch 24/40\n",
      "40/40 [==============================] - 0s 600us/step - loss: 0.1958 - mse: 0.1748 - val_loss: 0.1507 - val_mse: 0.1298\n",
      "Epoch 25/40\n",
      "40/40 [==============================] - 0s 400us/step - loss: 0.2100 - mse: 0.1892 - val_loss: 0.1457 - val_mse: 0.1249\n",
      "Epoch 26/40\n",
      "40/40 [==============================] - 0s 400us/step - loss: 0.2273 - mse: 0.2066 - val_loss: 0.1867 - val_mse: 0.1659\n",
      "Epoch 27/40\n",
      "40/40 [==============================] - 0s 400us/step - loss: 0.2635 - mse: 0.2430 - val_loss: 0.2586 - val_mse: 0.2379\n",
      "Epoch 28/40\n",
      "40/40 [==============================] - 0s 400us/step - loss: 0.2140 - mse: 0.1935 - val_loss: 0.1477 - val_mse: 0.1273\n",
      "Epoch 29/40\n",
      "40/40 [==============================] - 0s 400us/step - loss: 0.1556 - mse: 0.1352 - val_loss: 0.1431 - val_mse: 0.1228\n",
      "Epoch 30/40\n",
      "40/40 [==============================] - 0s 400us/step - loss: 0.1519 - mse: 0.1316 - val_loss: 0.1490 - val_mse: 0.1286\n",
      "Epoch 31/40\n",
      "40/40 [==============================] - 0s 400us/step - loss: 0.1661 - mse: 0.1458 - val_loss: 0.1795 - val_mse: 0.1592\n",
      "Epoch 32/40\n",
      "40/40 [==============================] - 0s 600us/step - loss: 0.1621 - mse: 0.1419 - val_loss: 0.1533 - val_mse: 0.1331\n",
      "Epoch 33/40\n",
      "40/40 [==============================] - 0s 400us/step - loss: 0.1504 - mse: 0.1302 - val_loss: 0.1437 - val_mse: 0.1235\n",
      "Epoch 34/40\n",
      "40/40 [==============================] - 0s 400us/step - loss: 0.1572 - mse: 0.1370 - val_loss: 0.1426 - val_mse: 0.1224\n",
      "Epoch 35/40\n",
      "40/40 [==============================] - 0s 400us/step - loss: 0.1465 - mse: 0.1264 - val_loss: 0.1466 - val_mse: 0.1264\n",
      "Epoch 36/40\n",
      "40/40 [==============================] - 0s 400us/step - loss: 0.1571 - mse: 0.1370 - val_loss: 0.1660 - val_mse: 0.1458\n",
      "Epoch 37/40\n",
      "40/40 [==============================] - 0s 400us/step - loss: 0.1517 - mse: 0.1316 - val_loss: 0.1580 - val_mse: 0.1380\n",
      "Epoch 38/40\n",
      "40/40 [==============================] - 0s 600us/step - loss: 0.1525 - mse: 0.1325 - val_loss: 0.1443 - val_mse: 0.1242\n",
      "Epoch 39/40\n",
      "40/40 [==============================] - 0s 400us/step - loss: 0.2080 - mse: 0.1880 - val_loss: 0.1884 - val_mse: 0.1686\n",
      "Epoch 40/40\n",
      "40/40 [==============================] - 0s 400us/step - loss: 0.1705 - mse: 0.1507 - val_loss: 0.1800 - val_mse: 0.1602\n",
      "Test loss: 0.17995327711105347\n"
     ]
    },
    {
     "data": {
      "image/png": "[encoded data removed]",
      "text/plain": [
       "<Figure size 432x288 with 1 Axes>"
      ]
     },
     "metadata": {
      "needs_background": "light"
     },
     "output_type": "display_data"
    }
   ],
   "source": [
    "# Train the model\n",
    "batch_size = 10\n",
    "epochs1 = 40\n",
    "\n",
    "history2 = model_2.fit(x_train, y_train,\n",
    "                    batch_size=batch_size,\n",
    "                    epochs=epochs1,\n",
    "                    verbose=1,\n",
    "                    validation_data=(x_test, y_test))\n",
    "\n",
    "# perform prediction using the test data\n",
    "y_pred2 = model_2.predict(x_test);\n",
    "\n",
    "# Find the loss\n",
    "score2 = model_2.evaluate(x_test, y_test, verbose=0)\n",
    "print('Test loss:', score2[0])\n",
    "\n",
    "# Plot the results\n",
    "tst2 = plt.plot(x_test,y_test,'r.',label='test');\n",
    "pred2 = plt.plot(x_test,y_pred,'m',label='pred');\n",
    "tr2 = plt.plot(x_train,y_train,'b.',label='train');\n",
    "\n",
    "plt.legend()\n",
    "plt.show()\n"
   ]
  },
  {
   "cell_type": "code",
   "execution_count": 14,
   "id": "scientific-drove",
   "metadata": {},
   "outputs": [
    {
     "name": "stdout",
     "output_type": "stream",
     "text": [
      "Model: \"sequential_6\"\n",
      "_________________________________________________________________\n",
      "Layer (type)                 Output Shape              Param #   \n",
      "=================================================================\n",
      "dense_10 (Dense)             (None, 50)                100       \n",
      "_________________________________________________________________\n",
      "dropout_2 (Dropout)          (None, 50)                0         \n",
      "_________________________________________________________________\n",
      "dense_11 (Dense)             (None, 1)                 51        \n",
      "=================================================================\n",
      "Total params: 151\n",
      "Trainable params: 151\n",
      "Non-trainable params: 0\n",
      "_________________________________________________________________\n"
     ]
    }
   ],
   "source": [
    "\n",
    "# Defining the model \n",
    "\n",
    "# Define that it is a FF model\n",
    "model_3 = Sequential()   \n",
    "\n",
    "# add a dense layer of weights\n",
    "model_3.add(Dense(50, activation='linear', input_shape=(1,)))\n",
    "model_3.add(Dropout(0.5))\n",
    "model_3.add(Dense(1))\n",
    "\n",
    "\n",
    "# print the model \n",
    "model_3.summary()\n",
    "\n",
    "# Define the optimizer\n",
    "s4 = SGD(lr=0.01)\n",
    "\n",
    "# Set up the model algorithm, loss, optimizer \n",
    "model_3.compile(loss='mse',\n",
    "              optimizer=s4,\n",
    "              metrics=['mse'])"
   ]
  },
  {
   "cell_type": "code",
   "execution_count": 13,
   "id": "organic-spiritual",
   "metadata": {
    "scrolled": true
   },
   "outputs": [
    {
     "name": "stdout",
     "output_type": "stream",
     "text": [
      "Train on 40 samples, validate on 20 samples\n",
      "Epoch 1/40\n",
      "40/40 [==============================] - 0s 12ms/step - loss: 4.0352 - mse: 4.0352 - val_loss: 7.2316 - val_mse: 7.2316\n",
      "Epoch 2/40\n",
      "40/40 [==============================] - 0s 600us/step - loss: 2.3813 - mse: 2.3813 - val_loss: 2.3678 - val_mse: 2.3678\n",
      "Epoch 3/40\n",
      "40/40 [==============================] - 0s 599us/step - loss: 2.1270 - mse: 2.1270 - val_loss: 3.5332 - val_mse: 3.5332\n",
      "Epoch 4/40\n",
      "40/40 [==============================] - 0s 600us/step - loss: 3.6928 - mse: 3.6928 - val_loss: 0.7802 - val_mse: 0.7802\n",
      "Epoch 5/40\n",
      "40/40 [==============================] - 0s 600us/step - loss: 1.0905 - mse: 1.0905 - val_loss: 0.2525 - val_mse: 0.2525\n",
      "Epoch 6/40\n",
      "40/40 [==============================] - 0s 600us/step - loss: 0.6818 - mse: 0.6818 - val_loss: 0.2708 - val_mse: 0.2708\n",
      "Epoch 7/40\n",
      "40/40 [==============================] - 0s 600us/step - loss: 0.7719 - mse: 0.7719 - val_loss: 0.4387 - val_mse: 0.4387\n",
      "Epoch 8/40\n",
      "40/40 [==============================] - 0s 400us/step - loss: 0.5189 - mse: 0.5189 - val_loss: 0.2894 - val_mse: 0.2894\n",
      "Epoch 9/40\n",
      "40/40 [==============================] - 0s 599us/step - loss: 0.6076 - mse: 0.6076 - val_loss: 0.2478 - val_mse: 0.2478\n",
      "Epoch 10/40\n",
      "40/40 [==============================] - 0s 600us/step - loss: 0.4501 - mse: 0.4501 - val_loss: 0.2222 - val_mse: 0.2222\n",
      "Epoch 11/40\n",
      "40/40 [==============================] - 0s 400us/step - loss: 0.4698 - mse: 0.4698 - val_loss: 0.2100 - val_mse: 0.2100\n",
      "Epoch 12/40\n",
      "40/40 [==============================] - 0s 600us/step - loss: 0.3832 - mse: 0.3832 - val_loss: 0.2077 - val_mse: 0.2077\n",
      "Epoch 13/40\n",
      "40/40 [==============================] - 0s 800us/step - loss: 0.3655 - mse: 0.3655 - val_loss: 0.2066 - val_mse: 0.2066\n",
      "Epoch 14/40\n",
      "40/40 [==============================] - 0s 600us/step - loss: 0.3709 - mse: 0.3709 - val_loss: 0.1961 - val_mse: 0.1961\n",
      "Epoch 15/40\n",
      "40/40 [==============================] - 0s 600us/step - loss: 0.3552 - mse: 0.3552 - val_loss: 0.1909 - val_mse: 0.1909\n",
      "Epoch 16/40\n",
      "40/40 [==============================] - 0s 600us/step - loss: 0.3130 - mse: 0.3130 - val_loss: 0.1844 - val_mse: 0.1844\n",
      "Epoch 17/40\n",
      "40/40 [==============================] - 0s 600us/step - loss: 0.2998 - mse: 0.2998 - val_loss: 0.1840 - val_mse: 0.1840\n",
      "Epoch 18/40\n",
      "40/40 [==============================] - 0s 400us/step - loss: 0.3047 - mse: 0.3047 - val_loss: 0.2005 - val_mse: 0.2005\n",
      "Epoch 19/40\n",
      "40/40 [==============================] - 0s 600us/step - loss: 0.2663 - mse: 0.2663 - val_loss: 0.1764 - val_mse: 0.1764\n",
      "Epoch 20/40\n",
      "40/40 [==============================] - 0s 600us/step - loss: 0.2266 - mse: 0.2266 - val_loss: 0.1719 - val_mse: 0.1719\n",
      "Epoch 21/40\n",
      "40/40 [==============================] - 0s 600us/step - loss: 0.2108 - mse: 0.2108 - val_loss: 0.1835 - val_mse: 0.1835\n",
      "Epoch 22/40\n",
      "40/40 [==============================] - 0s 600us/step - loss: 0.2439 - mse: 0.2439 - val_loss: 0.1640 - val_mse: 0.1640\n",
      "Epoch 23/40\n",
      "40/40 [==============================] - 0s 400us/step - loss: 0.2507 - mse: 0.2507 - val_loss: 0.1632 - val_mse: 0.1632\n",
      "Epoch 24/40\n",
      "40/40 [==============================] - 0s 400us/step - loss: 0.2357 - mse: 0.2357 - val_loss: 0.2004 - val_mse: 0.2004\n",
      "Epoch 25/40\n",
      "40/40 [==============================] - 0s 400us/step - loss: 0.2454 - mse: 0.2454 - val_loss: 0.1686 - val_mse: 0.1686\n",
      "Epoch 26/40\n",
      "40/40 [==============================] - 0s 600us/step - loss: 0.2206 - mse: 0.2206 - val_loss: 0.1633 - val_mse: 0.1633\n",
      "Epoch 27/40\n",
      "40/40 [==============================] - 0s 800us/step - loss: 0.2828 - mse: 0.2828 - val_loss: 0.1545 - val_mse: 0.1545\n",
      "Epoch 28/40\n",
      "40/40 [==============================] - 0s 600us/step - loss: 0.2984 - mse: 0.2984 - val_loss: 0.1525 - val_mse: 0.1525\n",
      "Epoch 29/40\n",
      "40/40 [==============================] - 0s 600us/step - loss: 0.2224 - mse: 0.2224 - val_loss: 0.1631 - val_mse: 0.1631\n",
      "Epoch 30/40\n",
      "40/40 [==============================] - 0s 600us/step - loss: 0.2009 - mse: 0.2009 - val_loss: 0.1669 - val_mse: 0.1669\n",
      "Epoch 31/40\n",
      "40/40 [==============================] - 0s 600us/step - loss: 0.2022 - mse: 0.2022 - val_loss: 0.1493 - val_mse: 0.1493\n",
      "Epoch 32/40\n",
      "40/40 [==============================] - 0s 600us/step - loss: 0.2019 - mse: 0.2019 - val_loss: 0.1534 - val_mse: 0.1534\n",
      "Epoch 33/40\n",
      "40/40 [==============================] - 0s 600us/step - loss: 0.2173 - mse: 0.2173 - val_loss: 0.1437 - val_mse: 0.1437\n",
      "Epoch 34/40\n",
      "40/40 [==============================] - 0s 600us/step - loss: 0.1998 - mse: 0.1998 - val_loss: 0.1442 - val_mse: 0.1442\n",
      "Epoch 35/40\n",
      "40/40 [==============================] - 0s 400us/step - loss: 0.2167 - mse: 0.2167 - val_loss: 0.1578 - val_mse: 0.1578\n",
      "Epoch 36/40\n",
      "40/40 [==============================] - 0s 600us/step - loss: 0.1809 - mse: 0.1809 - val_loss: 0.1427 - val_mse: 0.1427\n",
      "Epoch 37/40\n",
      "40/40 [==============================] - 0s 600us/step - loss: 0.2135 - mse: 0.2135 - val_loss: 0.1388 - val_mse: 0.1388\n",
      "Epoch 38/40\n",
      "40/40 [==============================] - 0s 600us/step - loss: 0.1996 - mse: 0.1996 - val_loss: 0.1390 - val_mse: 0.1390\n",
      "Epoch 39/40\n",
      "40/40 [==============================] - 0s 600us/step - loss: 0.2088 - mse: 0.2088 - val_loss: 0.1437 - val_mse: 0.1437\n",
      "Epoch 40/40\n",
      "40/40 [==============================] - 0s 600us/step - loss: 0.2114 - mse: 0.2114 - val_loss: 0.1350 - val_mse: 0.1350\n",
      "Test loss: 0.13498494029045105\n"
     ]
    },
    {
     "data": {
      "image/png": "[encoded data removed]",
      "text/plain": [
       "<Figure size 432x288 with 1 Axes>"
      ]
     },
     "metadata": {
      "needs_background": "light"
     },
     "output_type": "display_data"
    }
   ],
   "source": [
    "# Train the model\n",
    "batch_size = 10\n",
    "epochs = 40\n",
    "\n",
    "history3 = model_3.fit(x_train, y_train,\n",
    "                    batch_size=batch_size,\n",
    "                    epochs=epochs,\n",
    "                    verbose=1,\n",
    "                    validation_data=(x_test, y_test))\n",
    "\n",
    "# perform prediction using the test data\n",
    "y_pred3 = model_3.predict(x_test);\n",
    "\n",
    "# Find the loss\n",
    "score3 = model_3.evaluate(x_test, y_test, verbose=0)\n",
    "print('Test loss:', score3[0])\n",
    "\n",
    "# Plot the results\n",
    "tst3 = plt.plot(x_test,y_test,'r.',label='test');\n",
    "pred3 = plt.plot(x_test,y_pred,'m',label='pred');\n",
    "tr3 = plt.plot(x_train,y_train,'b.',label='train');\n",
    "\n",
    "plt.legend()\n",
    "plt.show()\n"
   ]
  },
  {
   "cell_type": "code",
   "execution_count": null,
   "id": "consistent-determination",
   "metadata": {},
   "outputs": [],
   "source": []
  }
 ],
 "metadata": {
  "kernelspec": {
   "display_name": "Python 3",
   "language": "python",
   "name": "python3"
  },
  "language_info": {
   "codemirror_mode": {
    "name": "ipython",
    "version": 3
   },
   "file_extension": ".py",
   "mimetype": "text/x-python",
   "name": "python",
   "nbconvert_exporter": "python",
   "pygments_lexer": "ipython3",
   "version": "3.6.12"
  }
 },
 "nbformat": 4,
 "nbformat_minor": 5
}
