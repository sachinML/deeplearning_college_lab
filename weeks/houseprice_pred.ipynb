{
 "cells": [
  {
   "cell_type": "markdown",
   "id": "inside-athens",
   "metadata": {},
   "source": [
    "## Linear Regresssion\n",
    "### Boston House Price Dataset\n",
    "\n",
    "OBJECTIVE: \n",
    "Learn a linear regression model the Boston House price Dataset\n"
   ]
  },
  {
   "cell_type": "code",
   "execution_count": 53,
   "id": "specified-houston",
   "metadata": {},
   "outputs": [],
   "source": [
    "from keras.datasets import boston_housing\n",
    "\n",
    "(train_data, train_targets), (test_data,test_targets) = boston_housing.load_data()"
   ]
  },
  {
   "cell_type": "code",
   "execution_count": 54,
   "id": "leading-baptist",
   "metadata": {},
   "outputs": [
    {
     "data": {
      "text/plain": [
       "(404, 13)"
      ]
     },
     "execution_count": 54,
     "metadata": {},
     "output_type": "execute_result"
    }
   ],
   "source": [
    "train_data.shape"
   ]
  },
  {
   "cell_type": "code",
   "execution_count": 55,
   "id": "parental-lancaster",
   "metadata": {},
   "outputs": [
    {
     "data": {
      "text/plain": [
       "(102, 13)"
      ]
     },
     "execution_count": 55,
     "metadata": {},
     "output_type": "execute_result"
    }
   ],
   "source": [
    "test_data.shape"
   ]
  },
  {
   "cell_type": "code",
   "execution_count": 4,
   "id": "integrated-walker",
   "metadata": {},
   "outputs": [
    {
     "data": {
      "text/plain": [
       "(404,)"
      ]
     },
     "execution_count": 4,
     "metadata": {},
     "output_type": "execute_result"
    }
   ],
   "source": [
    "train_targets.shape"
   ]
  },
  {
   "cell_type": "code",
   "execution_count": 5,
   "id": "interracial-engagement",
   "metadata": {},
   "outputs": [
    {
     "data": {
      "text/plain": [
       "(102,)"
      ]
     },
     "execution_count": 5,
     "metadata": {},
     "output_type": "execute_result"
    }
   ],
   "source": [
    "test_targets.shape"
   ]
  },
  {
   "cell_type": "code",
   "execution_count": 56,
   "id": "monthly-mission",
   "metadata": {},
   "outputs": [
    {
     "name": "stdout",
     "output_type": "stream",
     "text": [
      "[  1.23247   0.        8.14      0.        0.538     6.142    91.7\n",
      "   3.9769    4.      307.       21.      396.9      18.72   ] 15.2\n"
     ]
    }
   ],
   "source": [
    "''' \n",
    "The dataset contains the following details\n",
    "\n",
    "# Features are \n",
    "CRIM: Per capita crime rate by town\n",
    "ZN: Proportion of residential land zoned for lots over 25,000 sq. ft\n",
    "INDUS: Proportion of non-retail business acres per town\n",
    "CHAS: Charles River dummy variable (= 1 if tract bounds river; 0 otherwise)\n",
    "NOX: Nitric oxide concentration (parts per 10 million)\n",
    "RM: Average number of rooms per dwelling\n",
    "AGE: Proportion of owner-occupied units built prior to 1940\n",
    "DIS: Weighted distances to five Boston employment centers\n",
    "RAD: Index of accessibility to radial highways\n",
    "TAX: Full-value property tax rate per $10,000\n",
    "PTRATIO: Pupil-teacher ratio by town\n",
    "B: 1000(Bk — 0.63)², where Bk is the proportion of [people of African American descent] by town\n",
    "LSTAT: Percentage of lower status of the population\n",
    "\n",
    "#Target Value\n",
    "MEDV: Median value of owner-occupied homes in $1000s\n",
    "'''\n",
    "\n",
    "print(train_data[0,:], train_targets[0])"
   ]
  },
  {
   "cell_type": "code",
   "execution_count": 57,
   "id": "honest-queens",
   "metadata": {},
   "outputs": [
    {
     "data": {
      "image/png": "[encoded data removed]",
      "text/plain": [
       "<Figure size 432x288 with 1 Axes>"
      ]
     },
     "metadata": {
      "needs_background": "light"
     },
     "output_type": "display_data"
    }
   ],
   "source": [
    "#Visualize stuff\n",
    "\n",
    "import matplotlib.pyplot as plt\n",
    "\n",
    "(n,bins,patch)=plt.hist(train_targets,bins=20)"
   ]
  },
  {
   "cell_type": "code",
   "execution_count": 106,
   "id": "acoustic-arrival",
   "metadata": {},
   "outputs": [
    {
     "name": "stdout",
     "output_type": "stream",
     "text": [
      "(404, 14)\n",
      "(14,)\n",
      "[ 4.02936706e+01 -1.19997513e-01  5.70003304e-02  3.98379660e-03\n",
      "  4.12698187e+00 -2.05002963e+01  3.38024903e+00  7.56807584e-03\n",
      " -1.71189793e+00  3.34747537e-01 -1.17797225e-02 -9.02318039e-01\n",
      "  8.71912756e-03 -5.55842510e-01]\n",
      "(102,)\n",
      "23.195599256424146\n"
     ]
    }
   ],
   "source": [
    "# Linear Regression\n",
    "# price = a0 + a1 * feat_1 + a2 * feat_2 + ... + a13 * feat_13\n",
    "# a = inv(H'H) * H'y\n",
    "import numpy as np\n",
    "\n",
    "Y = train_targets\n",
    "H = np. append(np.ones([404,1]),train_data,axis = 1)\n",
    "print(H.shape)\n",
    "#print(Y.shape)\n",
    "\n",
    "H1 = np.matrix.transpose(H)\n",
    "#print(H1.shape)\n",
    "a = np.dot(np.linalg.inv(np.dot(H1,H)), np.dot(H1,Y))\n",
    "print(a.shape)\n",
    "print(a)\n",
    "\n",
    "H_test = np. append(np.ones([102,1]),test_data,axis = 1) \n",
    "p = np.dot(H_test,a)\n",
    "print(p.shape)\n",
    "\n",
    "MSE = (np.square(p - test_targets)).mean()\n",
    "print(MSE)"
   ]
  },
  {
   "cell_type": "code",
   "execution_count": 59,
   "id": "verbal-nirvana",
   "metadata": {},
   "outputs": [],
   "source": [
    "# Gradient Descent Algorithm\n",
    "# J = (Y - Ha)'(Y - Ha)\n"
   ]
  },
  {
   "cell_type": "code",
   "execution_count": 134,
   "id": "biblical-notebook",
   "metadata": {},
   "outputs": [
    {
     "name": "stdout",
     "output_type": "stream",
     "text": [
      "(14,)\n",
      "[ -7.99155536  -2.23480301  -1.47782523  -0.56217971   5.08622452\n",
      "   3.78732593  11.29018456   4.07789262  -5.58273258  16.08280938\n",
      "  -0.14370171 -10.9783948   -0.29393191 -41.95131472]\n"
     ]
    }
   ],
   "source": [
    "alpha = 0.1\n",
    "a2 = np.zeros(14)\n",
    "H = train_data\n",
    "Y = train_targets\n",
    "n = Y.size\n",
    "\n",
    "H = (H - H.mean())/H.std()\n",
    "H = np.c_[np.ones(H.shape[0]),H]\n",
    "print(a2.shape)\n",
    "for i in range(5500):\n",
    "    J = np.dot(H,a2) - Y\n",
    "    der =  np.dot(H.T,error)\n",
    "    a2 = a2 - ((1/n)*alpha*der)\n",
    "    \n",
    "print(a2)    "
   ]
  },
  {
   "cell_type": "code",
   "execution_count": 133,
   "id": "premium-relation",
   "metadata": {},
   "outputs": [
    {
     "name": "stdout",
     "output_type": "stream",
     "text": [
      "(102,)\n",
      "615.6459440690514\n"
     ]
    }
   ],
   "source": [
    "H_test = test_data\n",
    "Y_test = test_targets\n",
    "H_test = (H_test - test_data.mean())/test_data.std()\n",
    "H_test = np.c_[np.ones(H_test.shape[0]),H_test]\n",
    "p2 = np.dot(H_test,a2)\n",
    "print(p2.shape)\n",
    "\n",
    "MSE2 = (np.square(p2 - Y_test)).mean()\n",
    "print(MSE2)"
   ]
  }
 ],
 "metadata": {
  "kernelspec": {
   "display_name": "SPML Course Environment",
   "language": "python",
   "name": "spml"
  },
  "language_info": {
   "codemirror_mode": {
    "name": "ipython",
    "version": 3
   },
   "file_extension": ".py",
   "mimetype": "text/x-python",
   "name": "python",
   "nbconvert_exporter": "python",
   "pygments_lexer": "ipython3",
   "version": "3.8.5"
  }
 },
 "nbformat": 4,
 "nbformat_minor": 5
}
