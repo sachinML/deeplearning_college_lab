{
 "cells": [
  {
   "cell_type": "markdown",
   "id": "closing-clone",
   "metadata": {},
   "source": [
    "### Keras Examples\n",
    "   #### Dense Model "
   ]
  },
  {
   "cell_type": "code",
   "execution_count": 1,
   "id": "gorgeous-namibia",
   "metadata": {},
   "outputs": [
    {
     "name": "stdout",
     "output_type": "stream",
     "text": [
      "40 train samples\n",
      "20 test samples\n"
     ]
    }
   ],
   "source": [
    "'''Trains a simple Linear Regressin on a simulated data\n",
    "'''\n",
    "\n",
    "from __future__ import print_function\n",
    "import numpy as np \n",
    "import matplotlib.pyplot as plt\n",
    "import keras\n",
    "from keras.models import Sequential\n",
    "from keras.layers import Dense, Dropout\n",
    "from keras.optimizers import SGD \n",
    "\n",
    "\n",
    "batch_size = 10\n",
    "epochs = 20\n",
    "\n",
    "def SimulData():\n",
    "\t# Simulate some data for training \n",
    "\tx_train = np.arange(0,10, 0.25 ) \n",
    "\tx_train = x_train + 1.0/3.0 * np.random.randn(x_train.size);\n",
    "\ty_train  = np.cos( x_train  * np.pi /7) +  0.1 * np.random.randn(x_train.size);\n",
    "\n",
    "\tx_test = np.arange(0,10, 0.5 ) \n",
    "\tx_test = x_test + 1.0/3.0 * np.random.randn(x_test.size);\n",
    "\ty_test  = np.cos( x_test  * np.pi /7)+  0.1 * np.random.randn(x_test.size) \n",
    "\n",
    "\treturn (x_train,y_train) , (x_test, y_test)\n",
    "\n",
    "\n",
    "# the data, shuffled and split between train and test sets\n",
    "(x_train, y_train), (x_test, y_test) = SimulData(); \n",
    "\n",
    "print(x_train.shape[0], 'train samples')\n",
    "print(x_test.shape[0], 'test samples')\n",
    "\n"
   ]
  },
  {
   "cell_type": "code",
   "execution_count": 2,
   "id": "native-binary",
   "metadata": {
    "scrolled": true
   },
   "outputs": [
    {
     "name": "stdout",
     "output_type": "stream",
     "text": [
      "Model: \"sequential\"\n",
      "_________________________________________________________________\n",
      "Layer (type)                 Output Shape              Param #   \n",
      "=================================================================\n",
      "dense (Dense)                (None, 1)                 2         \n",
      "=================================================================\n",
      "Total params: 2\n",
      "Trainable params: 2\n",
      "Non-trainable params: 0\n",
      "_________________________________________________________________\n",
      "Epoch 1/20\n",
      "4/4 [==============================] - 0s 23ms/step - loss: 8.1366 - mse: 8.1366 - val_loss: 2.3498 - val_mse: 2.3498\n",
      "Epoch 2/20\n",
      "4/4 [==============================] - 0s 4ms/step - loss: 1.0289 - mse: 1.0289 - val_loss: 0.2784 - val_mse: 0.2784\n",
      "Epoch 3/20\n",
      "4/4 [==============================] - 0s 5ms/step - loss: 0.2738 - mse: 0.2738 - val_loss: 0.2353 - val_mse: 0.2353\n",
      "Epoch 4/20\n",
      "4/4 [==============================] - 0s 4ms/step - loss: 0.2697 - mse: 0.2697 - val_loss: 0.1919 - val_mse: 0.1919\n",
      "Epoch 5/20\n",
      "4/4 [==============================] - 0s 4ms/step - loss: 0.2317 - mse: 0.2317 - val_loss: 0.1446 - val_mse: 0.1446\n",
      "Epoch 6/20\n",
      "4/4 [==============================] - 0s 4ms/step - loss: 0.1604 - mse: 0.1604 - val_loss: 0.1246 - val_mse: 0.1246\n",
      "Epoch 7/20\n",
      "4/4 [==============================] - 0s 4ms/step - loss: 0.1640 - mse: 0.1640 - val_loss: 0.1482 - val_mse: 0.1482\n",
      "Epoch 8/20\n",
      "4/4 [==============================] - 0s 4ms/step - loss: 0.1702 - mse: 0.1702 - val_loss: 0.1616 - val_mse: 0.1616\n",
      "Epoch 9/20\n",
      "4/4 [==============================] - 0s 4ms/step - loss: 0.1617 - mse: 0.1617 - val_loss: 0.1236 - val_mse: 0.1236\n",
      "Epoch 10/20\n",
      "4/4 [==============================] - 0s 4ms/step - loss: 0.1559 - mse: 0.1559 - val_loss: 0.1197 - val_mse: 0.1197\n",
      "Epoch 11/20\n",
      "4/4 [==============================] - 0s 5ms/step - loss: 0.1483 - mse: 0.1483 - val_loss: 0.1169 - val_mse: 0.1169\n",
      "Epoch 12/20\n",
      "4/4 [==============================] - 0s 4ms/step - loss: 0.1594 - mse: 0.1594 - val_loss: 0.1307 - val_mse: 0.1307\n",
      "Epoch 13/20\n",
      "4/4 [==============================] - 0s 4ms/step - loss: 0.1672 - mse: 0.1672 - val_loss: 0.1786 - val_mse: 0.1786\n",
      "Epoch 14/20\n",
      "4/4 [==============================] - 0s 4ms/step - loss: 0.1719 - mse: 0.1719 - val_loss: 0.1396 - val_mse: 0.1396\n",
      "Epoch 15/20\n",
      "4/4 [==============================] - 0s 4ms/step - loss: 0.1456 - mse: 0.1456 - val_loss: 0.1388 - val_mse: 0.1388\n",
      "Epoch 16/20\n",
      "4/4 [==============================] - 0s 4ms/step - loss: 0.1522 - mse: 0.1522 - val_loss: 0.1220 - val_mse: 0.1220\n",
      "Epoch 17/20\n",
      "4/4 [==============================] - 0s 4ms/step - loss: 0.2234 - mse: 0.2234 - val_loss: 0.1236 - val_mse: 0.1236\n",
      "Epoch 18/20\n",
      "4/4 [==============================] - 0s 4ms/step - loss: 0.1357 - mse: 0.1357 - val_loss: 0.1226 - val_mse: 0.1226\n",
      "Epoch 19/20\n",
      "4/4 [==============================] - 0s 5ms/step - loss: 0.2022 - mse: 0.2022 - val_loss: 0.1393 - val_mse: 0.1393\n",
      "Epoch 20/20\n",
      "4/4 [==============================] - 0s 4ms/step - loss: 0.1770 - mse: 0.1770 - val_loss: 0.2665 - val_mse: 0.2665\n"
     ]
    }
   ],
   "source": [
    "\n",
    "model = Sequential()\n",
    "model.add(Dense(1, activation='linear', input_shape=(1,)))\n",
    "\n",
    "model.summary()\n",
    "sgd = SGD(lr=0.01, decay=1e-6, momentum=0.9, nesterov=True)\n",
    "\n",
    "\n",
    "model.compile(loss='mse',\n",
    "              optimizer=sgd,\n",
    "              metrics=['mse'])\n",
    "\n",
    "history = model.fit(x_train, y_train,\n",
    "                    batch_size=batch_size,\n",
    "                    epochs=epochs,\n",
    "                    verbose=1,\n",
    "                    validation_data=(x_test, y_test))"
   ]
  },
  {
   "cell_type": "code",
   "execution_count": 3,
   "id": "dramatic-worcester",
   "metadata": {},
   "outputs": [
    {
     "name": "stdout",
     "output_type": "stream",
     "text": [
      "Test loss: 0.2664946913719177\n"
     ]
    },
    {
     "data": {
      "image/png": "[encoded data removed]",
      "text/plain": [
       "<Figure size 432x288 with 1 Axes>"
      ]
     },
     "metadata": {
      "needs_background": "light"
     },
     "output_type": "display_data"
    }
   ],
   "source": [
    "y_pred = model.predict(x_test); \n",
    "\n",
    "\n",
    "score = model.evaluate(x_test, y_test, verbose=0)\n",
    "print('Test loss:', score[0])\n",
    "\n",
    "tst = plt.plot(x_test,y_test,'r.',label='test'); \n",
    "pred = plt.plot(x_test,y_pred,'m',label='pred');\n",
    "tr = plt.plot(x_train,y_train,'b.',label='train');\n",
    "\n",
    "plt.legend()\n",
    "plt.show()"
   ]
  },
  {
   "cell_type": "markdown",
   "id": "creative-woman",
   "metadata": {},
   "source": [
    "##### Logistic Regression \n",
    "This part load the MNIST data and trains a simple logistic \n",
    "regression classifier\n"
   ]
  },
  {
   "cell_type": "code",
   "execution_count": 4,
   "id": "common-desert",
   "metadata": {
    "scrolled": true
   },
   "outputs": [
    {
     "name": "stdout",
     "output_type": "stream",
     "text": [
      "60000 train samples\n",
      "10000 test samples\n",
      "Model: \"sequential_1\"\n",
      "_________________________________________________________________\n",
      "Layer (type)                 Output Shape              Param #   \n",
      "=================================================================\n",
      "dense_1 (Dense)              (None, 10)                7850      \n",
      "=================================================================\n",
      "Total params: 7,850\n",
      "Trainable params: 7,850\n",
      "Non-trainable params: 0\n",
      "_________________________________________________________________\n",
      "Epoch 1/10\n",
      "469/469 [==============================] - 1s 3ms/step - loss: 0.5991 - accuracy: 0.8529 - val_loss: 0.3399 - val_accuracy: 0.9078\n",
      "Epoch 2/10\n",
      "469/469 [==============================] - 1s 2ms/step - loss: 0.3310 - accuracy: 0.9082 - val_loss: 0.2971 - val_accuracy: 0.9185\n",
      "Epoch 3/10\n",
      "469/469 [==============================] - 1s 2ms/step - loss: 0.3018 - accuracy: 0.9159 - val_loss: 0.2851 - val_accuracy: 0.9213\n",
      "Epoch 4/10\n",
      "469/469 [==============================] - 1s 2ms/step - loss: 0.2887 - accuracy: 0.9199 - val_loss: 0.2797 - val_accuracy: 0.9220\n",
      "Epoch 5/10\n",
      "469/469 [==============================] - 1s 2ms/step - loss: 0.2805 - accuracy: 0.9218 - val_loss: 0.2733 - val_accuracy: 0.9254\n",
      "Epoch 6/10\n",
      "469/469 [==============================] - 1s 2ms/step - loss: 0.2752 - accuracy: 0.9237 - val_loss: 0.2715 - val_accuracy: 0.9257\n",
      "Epoch 7/10\n",
      "469/469 [==============================] - 1s 2ms/step - loss: 0.2710 - accuracy: 0.9250 - val_loss: 0.2697 - val_accuracy: 0.9254\n",
      "Epoch 8/10\n",
      "469/469 [==============================] - 1s 2ms/step - loss: 0.2680 - accuracy: 0.9265 - val_loss: 0.2693 - val_accuracy: 0.9253\n",
      "Epoch 9/10\n",
      "469/469 [==============================] - 1s 2ms/step - loss: 0.2655 - accuracy: 0.9268 - val_loss: 0.2688 - val_accuracy: 0.9266\n",
      "Epoch 10/10\n",
      "469/469 [==============================] - 1s 2ms/step - loss: 0.2632 - accuracy: 0.9284 - val_loss: 0.2682 - val_accuracy: 0.9259\n",
      "Test loss: 0.2682267129421234\n",
      "Test accuracy: 0.9258999824523926\n"
     ]
    }
   ],
   "source": [
    "'''Keras MNIST MLP Example \n",
    "'''\n",
    "\n",
    "from __future__ import print_function\n",
    "\n",
    "import keras\n",
    "from keras.datasets import mnist\n",
    "from keras.models import Sequential\n",
    "from keras.layers import Dense, Dropout\n",
    "from keras.optimizers import RMSprop\n",
    "\n",
    "batch_size = 128\n",
    "num_classes = 10\n",
    "epochs = 10\n",
    "\n",
    "# the data, shuffled and split between train and test sets\n",
    "(x_train, y_train), (x_test, y_test) = mnist.load_data()\n",
    "\n",
    "x_train = x_train.reshape(60000, 784)\n",
    "x_test = x_test.reshape(10000, 784)\n",
    "x_train = x_train.astype('float32')\n",
    "x_test = x_test.astype('float32')\n",
    "x_train /= 255\n",
    "x_test /= 255\n",
    "print(x_train.shape[0], 'train samples')\n",
    "print(x_test.shape[0], 'test samples')\n",
    "\n",
    "# convert class vectors to binary class matrices\n",
    "y_train = keras.utils.to_categorical(y_train, num_classes)\n",
    "y_test = keras.utils.to_categorical(y_test, num_classes)\n",
    "\n",
    "model = Sequential()\n",
    "model.add(Dense(num_classes, activation='softmax', input_shape=(784,)))\n",
    "\n",
    "model.summary()\n",
    "\n",
    "model.compile(loss='categorical_crossentropy',\n",
    "              optimizer=RMSprop(),\n",
    "              metrics=['accuracy'])\n",
    "\n",
    "history = model.fit(x_train, y_train,\n",
    "                    batch_size=batch_size,\n",
    "                    epochs=epochs,\n",
    "                    verbose=1,\n",
    "                    validation_data=(x_test, y_test))\n",
    "score = model.evaluate(x_test, y_test, verbose=0)\n",
    "print('Test loss:', score[0])\n",
    "print('Test accuracy:', score[1])"
   ]
  },
  {
   "cell_type": "code",
   "execution_count": null,
   "id": "difficult-round",
   "metadata": {},
   "outputs": [],
   "source": []
  },
  {
   "cell_type": "markdown",
   "id": "heard-retirement",
   "metadata": {},
   "source": [
    "#### TODO\n",
    "1. train a 2/3 layer network \n",
    "2. Find the following hyperparameters on a validation data\n",
    "    - number of neurons in a layer\n",
    "    - effect of drop out\n",
    "    \n",
    "3. Plot the learning curves of these models\n",
    "    - both training and validation learning curve\n",
    "    \n",
    "    "
   ]
  },
  {
   "cell_type": "code",
   "execution_count": 5,
   "id": "critical-article",
   "metadata": {
    "scrolled": true
   },
   "outputs": [
    {
     "name": "stdout",
     "output_type": "stream",
     "text": [
      "Model: \"sequential_2\"\n",
      "_________________________________________________________________\n",
      "Layer (type)                 Output Shape              Param #   \n",
      "=================================================================\n",
      "dense_2 (Dense)              (None, 50)                39250     \n",
      "_________________________________________________________________\n",
      "dense_3 (Dense)              (None, 20)                1020      \n",
      "_________________________________________________________________\n",
      "dense_4 (Dense)              (None, 10)                210       \n",
      "=================================================================\n",
      "Total params: 40,480\n",
      "Trainable params: 40,480\n",
      "Non-trainable params: 0\n",
      "_________________________________________________________________\n",
      "Epoch 1/10\n",
      "469/469 [==============================] - 2s 4ms/step - loss: 0.4465 - accuracy: 0.8759 - val_loss: 0.2347 - val_accuracy: 0.9311\n",
      "Epoch 2/10\n",
      "469/469 [==============================] - 1s 3ms/step - loss: 0.2001 - accuracy: 0.9413 - val_loss: 0.1657 - val_accuracy: 0.9509\n",
      "Epoch 3/10\n",
      "469/469 [==============================] - 2s 3ms/step - loss: 0.1523 - accuracy: 0.9552 - val_loss: 0.1428 - val_accuracy: 0.9556\n",
      "Epoch 4/10\n",
      "469/469 [==============================] - 2s 3ms/step - loss: 0.1247 - accuracy: 0.9630 - val_loss: 0.1243 - val_accuracy: 0.9635\n",
      "Epoch 5/10\n",
      "469/469 [==============================] - 2s 4ms/step - loss: 0.1066 - accuracy: 0.9683 - val_loss: 0.1168 - val_accuracy: 0.9644\n",
      "Epoch 6/10\n",
      "469/469 [==============================] - 2s 3ms/step - loss: 0.0942 - accuracy: 0.9723 - val_loss: 0.1072 - val_accuracy: 0.9679\n",
      "Epoch 7/10\n",
      "469/469 [==============================] - 1s 3ms/step - loss: 0.0841 - accuracy: 0.9748 - val_loss: 0.1114 - val_accuracy: 0.9667\n",
      "Epoch 8/10\n",
      "469/469 [==============================] - 2s 3ms/step - loss: 0.0768 - accuracy: 0.9774 - val_loss: 0.0975 - val_accuracy: 0.9720\n",
      "Epoch 9/10\n",
      "469/469 [==============================] - 1s 3ms/step - loss: 0.0688 - accuracy: 0.9797 - val_loss: 0.0977 - val_accuracy: 0.9727\n",
      "Epoch 10/10\n",
      "469/469 [==============================] - 1s 3ms/step - loss: 0.0647 - accuracy: 0.9810 - val_loss: 0.0954 - val_accuracy: 0.9713\n",
      "Test loss: 0.09544704854488373\n",
      "Test accuracy: 0.9713000059127808\n"
     ]
    }
   ],
   "source": [
    "model_1 = Sequential()\n",
    "\n",
    "model_1.add(Dense(50, activation='relu', input_shape=(784,)))\n",
    "model_1.add(Dense(20, activation='relu'))\n",
    "model_1.add(Dense(num_classes, activation='softmax'))\n",
    "\n",
    "model_1.summary()\n",
    "\n",
    "model_1.compile(loss='categorical_crossentropy',\n",
    "              optimizer=RMSprop(),\n",
    "              metrics=['accuracy'])\n",
    "\n",
    "history_1 = model_1.fit(x_train, y_train,\n",
    "                    batch_size=batch_size,\n",
    "                    epochs=epochs,\n",
    "                    verbose=1,\n",
    "                    validation_data=(x_test, y_test))\n",
    "score_1 = model_1.evaluate(x_test, y_test, verbose=0)\n",
    "print('Test loss:', score_1[0])\n",
    "print('Test accuracy:', score_1[1])\n",
    "\n",
    "\n",
    "# here we have used relu activation in the hidden layer with 50 neurons on 1st layer and 20 nurons on 2nd layer\n",
    "# by which we got 97 % accuracy with 9.5% loss"
   ]
  },
  {
   "cell_type": "code",
   "execution_count": 6,
   "id": "exposed-circular",
   "metadata": {},
   "outputs": [
    {
     "name": "stdout",
     "output_type": "stream",
     "text": [
      "dict_keys(['loss', 'accuracy', 'val_loss', 'val_accuracy'])\n"
     ]
    }
   ],
   "source": [
    "print(history_1.history.keys())"
   ]
  },
  {
   "cell_type": "code",
   "execution_count": 7,
   "id": "forty-consideration",
   "metadata": {},
   "outputs": [
    {
     "data": {
      "image/png": "[encoded data removed]",
      "text/plain": [
       "<Figure size 432x288 with 1 Axes>"
      ]
     },
     "metadata": {
      "needs_background": "light"
     },
     "output_type": "display_data"
    }
   ],
   "source": [
    "plt.plot(history_1.history['accuracy'])\n",
    "plt.plot(history_1.history['val_accuracy'])\n",
    "plt.ylabel('accuracy')\n",
    "plt.xlabel('epoch')\n",
    "plt.legend(['train','test'], loc = 'lower right')\n",
    "plt.show()\n"
   ]
  },
  {
   "cell_type": "code",
   "execution_count": 8,
   "id": "upper-exception",
   "metadata": {},
   "outputs": [
    {
     "data": {
      "image/png": "[encoded data removed]",
      "text/plain": [
       "<Figure size 432x288 with 1 Axes>"
      ]
     },
     "metadata": {
      "needs_background": "light"
     },
     "output_type": "display_data"
    }
   ],
   "source": [
    "plt.plot(history_1.history['loss'])\n",
    "plt.plot(history_1.history['val_loss'])\n",
    "plt.ylabel('model_loss')\n",
    "plt.xlabel('epoch')\n",
    "plt.legend(['train','test'], loc = 'upper right')\n",
    "plt.show()\n"
   ]
  },
  {
   "cell_type": "markdown",
   "id": "metropolitan-castle",
   "metadata": {},
   "source": [
    "# dropout"
   ]
  },
  {
   "cell_type": "code",
   "execution_count": 9,
   "id": "major-invention",
   "metadata": {
    "scrolled": true
   },
   "outputs": [
    {
     "name": "stdout",
     "output_type": "stream",
     "text": [
      "Model: \"sequential_3\"\n",
      "_________________________________________________________________\n",
      "Layer (type)                 Output Shape              Param #   \n",
      "=================================================================\n",
      "dense_5 (Dense)              (None, 50)                39250     \n",
      "_________________________________________________________________\n",
      "dropout (Dropout)            (None, 50)                0         \n",
      "_________________________________________________________________\n",
      "dense_6 (Dense)              (None, 20)                1020      \n",
      "_________________________________________________________________\n",
      "dropout_1 (Dropout)          (None, 20)                0         \n",
      "_________________________________________________________________\n",
      "dense_7 (Dense)              (None, 10)                210       \n",
      "=================================================================\n",
      "Total params: 40,480\n",
      "Trainable params: 40,480\n",
      "Non-trainable params: 0\n",
      "_________________________________________________________________\n",
      "Epoch 1/10\n",
      "469/469 [==============================] - 2s 4ms/step - loss: 0.7844 - accuracy: 0.7536 - val_loss: 0.2700 - val_accuracy: 0.9225\n",
      "Epoch 2/10\n",
      "469/469 [==============================] - 2s 4ms/step - loss: 0.4205 - accuracy: 0.8753 - val_loss: 0.2096 - val_accuracy: 0.9408\n",
      "Epoch 3/10\n",
      "469/469 [==============================] - 2s 4ms/step - loss: 0.3452 - accuracy: 0.8989 - val_loss: 0.1790 - val_accuracy: 0.9482\n",
      "Epoch 4/10\n",
      "469/469 [==============================] - 2s 4ms/step - loss: 0.3155 - accuracy: 0.9099 - val_loss: 0.1658 - val_accuracy: 0.9522\n",
      "Epoch 5/10\n",
      "469/469 [==============================] - 2s 4ms/step - loss: 0.2878 - accuracy: 0.9170 - val_loss: 0.1560 - val_accuracy: 0.9555\n",
      "Epoch 6/10\n",
      "469/469 [==============================] - 2s 4ms/step - loss: 0.2699 - accuracy: 0.9227 - val_loss: 0.1542 - val_accuracy: 0.9585\n",
      "Epoch 7/10\n",
      "469/469 [==============================] - 2s 4ms/step - loss: 0.2583 - accuracy: 0.9265 - val_loss: 0.1458 - val_accuracy: 0.9586\n",
      "Epoch 8/10\n",
      "469/469 [==============================] - 2s 4ms/step - loss: 0.2486 - accuracy: 0.9280 - val_loss: 0.1412 - val_accuracy: 0.9623\n",
      "Epoch 9/10\n",
      "469/469 [==============================] - 2s 4ms/step - loss: 0.2440 - accuracy: 0.9301 - val_loss: 0.1368 - val_accuracy: 0.9622\n",
      "Epoch 10/10\n",
      "469/469 [==============================] - 2s 4ms/step - loss: 0.2381 - accuracy: 0.9324 - val_loss: 0.1344 - val_accuracy: 0.9640\n",
      "Test loss: 0.13442488014698029\n",
      "Test accuracy: 0.9639999866485596\n"
     ]
    }
   ],
   "source": [
    "model_2 = Sequential()\n",
    "\n",
    "model_2.add(Dense(50, activation='relu', input_shape=(784,)))\n",
    "model_2.add(Dropout(0.25))\n",
    "model_2.add(Dense(20, activation='relu'))\n",
    "model_2.add(Dropout(0.25))\n",
    "model_2.add(Dense(num_classes, activation='softmax'))\n",
    "\n",
    "model_2.summary()\n",
    "\n",
    "model_2.compile(loss='categorical_crossentropy',\n",
    "              optimizer=RMSprop(),\n",
    "              metrics=['accuracy'])\n",
    "\n",
    "history_2 = model_2.fit(x_train, y_train,\n",
    "                    batch_size=batch_size,\n",
    "                    epochs=epochs,\n",
    "                    verbose=1,\n",
    "                    validation_data=(x_test, y_test))\n",
    "score_2 = model_2.evaluate(x_test, y_test, verbose=0)\n",
    "print('Test loss:', score_2[0])\n",
    "print('Test accuracy:', score_2[1])"
   ]
  },
  {
   "cell_type": "code",
   "execution_count": 10,
   "id": "duplicate-petersburg",
   "metadata": {},
   "outputs": [
    {
     "data": {
      "image/png": "[encoded data removed]",
      "text/plain": [
       "<Figure size 432x288 with 1 Axes>"
      ]
     },
     "metadata": {
      "needs_background": "light"
     },
     "output_type": "display_data"
    }
   ],
   "source": [
    "plt.plot(history_2.history['accuracy'])\n",
    "plt.plot(history_2.history['val_accuracy'])\n",
    "plt.ylabel('accuracy')\n",
    "plt.xlabel('epoch')\n",
    "plt.legend(['train','val'], loc = 'lower right')\n",
    "plt.show()\n"
   ]
  },
  {
   "cell_type": "code",
   "execution_count": 11,
   "id": "returning-hostel",
   "metadata": {},
   "outputs": [
    {
     "data": {
      "image/png": "[encoded data removed]",
      "text/plain": [
       "<Figure size 432x288 with 1 Axes>"
      ]
     },
     "metadata": {
      "needs_background": "light"
     },
     "output_type": "display_data"
    }
   ],
   "source": [
    "plt.plot(history_2.history['loss'])\n",
    "plt.plot(history_2.history['val_loss'])\n",
    "plt.ylabel('model_loss')\n",
    "plt.xlabel('epoch')\n",
    "plt.legend(['train','val'], loc = 'upper right')\n",
    "plt.show()\n"
   ]
  },
  {
   "cell_type": "code",
   "execution_count": null,
   "id": "relevant-contemporary",
   "metadata": {},
   "outputs": [],
   "source": []
  }
 ],
 "metadata": {
  "kernelspec": {
   "display_name": "Python 3",
   "language": "python",
   "name": "python3"
  },
  "language_info": {
   "codemirror_mode": {
    "name": "ipython",
    "version": 3
   },
   "file_extension": ".py",
   "mimetype": "text/x-python",
   "name": "python",
   "nbconvert_exporter": "python",
   "pygments_lexer": "ipython3",
   "version": "3.8.8"
  }
 },
 "nbformat": 4,
 "nbformat_minor": 5
}
